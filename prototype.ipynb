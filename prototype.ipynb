{
 "cells": [
  {
   "cell_type": "code",
   "execution_count": 1,
   "metadata": {},
   "outputs": [],
   "source": [
    "import torch\n",
    "import torchaudio\n",
    "from pathlib import Path\n",
    "from torch.utils.data import Dataset"
   ]
  },
  {
   "cell_type": "code",
   "execution_count": 2,
   "metadata": {},
   "outputs": [
    {
     "data": {
      "text/plain": [
       "(44100, 793800256, 2, 'VORBIS')"
      ]
     },
     "execution_count": 2,
     "metadata": {},
     "output_type": "execute_result"
    }
   ],
   "source": [
    "file = Path('/home/musa/dev/who-opened-the-door/data/2024-04-03_15_07_57-part1.ogg')\n",
    "file = Path('/home/musa/dev/who-opened-the-door/data/tmp1.ogg')\n",
    "metadata = torchaudio.info(str(file))\n",
    "sample_rate = metadata.sample_rate\n",
    "n_frames = metadata.num_frames\n",
    "n_channels = metadata.num_channels\n",
    "encoding = metadata.encoding # VORBIS for .ogg files\n",
    "sample_rate, n_frames, n_channels, encoding"
   ]
  },
  {
   "cell_type": "code",
   "execution_count": 87,
   "metadata": {},
   "outputs": [],
   "source": [
    "class AudioDataset(Dataset):\n",
    "    def __init__(self, audio_file, metadata=None, chunk_size=50_000_000):\n",
    "        audio_file = str(audio_file)\n",
    "        self.audio_file = audio_file\n",
    "        self.chunk_size = chunk_size\n",
    "        \n",
    "        if not metadata:\n",
    "            metadata = torchaudio.info(audio_file)\n",
    "            \n",
    "        self.num_chunks = metadata.num_frames // chunk_size\n",
    "\n",
    "    def __len__(self):\n",
    "        return self.num_chunks\n",
    "\n",
    "    def __getitem__(self, idx):\n",
    "        start_frame = idx * self.chunk_size\n",
    "        audio_chunk, _ = torchaudio.load(self.audio_file, frame_offset=start_frame, num_frames=self.chunk_size)\n",
    "        return audio_chunk\n",
    "audioDataset = AudioDataset(file, metadata)"
   ]
  },
  {
   "cell_type": "code",
   "execution_count": 81,
   "metadata": {},
   "outputs": [
    {
     "data": {
      "text/plain": [
       "400.0"
      ]
     },
     "execution_count": 81,
     "metadata": {},
     "output_type": "execute_result"
    }
   ],
   "source": [
    "wave = audioDataset[0]\n",
    "# number of mb in the audio file:\n",
    "len(wave.flatten()) * wave.element_size() / 1e6"
   ]
  },
  {
   "cell_type": "code",
   "execution_count": 7,
   "metadata": {},
   "outputs": [
    {
     "data": {
      "text/plain": [
       "[<matplotlib.lines.Line2D at 0x75aeefcc9810>]"
      ]
     },
     "execution_count": 7,
     "metadata": {},
     "output_type": "execute_result"
    },
    {
     "data": {
      "image/png": "[encoded data removed]",
      "text/plain": [
       "<Figure size 640x480 with 2 Axes>"
      ]
     },
     "metadata": {},
     "output_type": "display_data"
    }
   ],
   "source": [
    "import matplotlib.pyplot as plt\n",
    "fig,axes = plt.subplots(2, sharex=True)\n",
    "axes[0].plot(wave[0,800000:2000000].numpy())\n",
    "axes[1].plot(wave[1,800000:2000000].numpy(), color='orange')"
   ]
  },
  {
   "cell_type": "code",
   "execution_count": 93,
   "metadata": {},
   "outputs": [
    {
     "name": "stdout",
     "output_type": "stream",
     "text": [
      "0, 1.1389918327331543\n",
      "1, 1.138932704925537\n",
      "2, 1.131670594215393\n",
      "3, 1.1572849750518799\n",
      "4, 0.039071399718523026\n",
      "5, 1.0742146968841553\n",
      "6, 0.05100087821483612\n",
      "7, 1.1171586513519287\n",
      "8, 0.029938550665974617\n",
      "9, 0.02922179363667965\n",
      "10, 0.025239285081624985\n",
      "11, 0.06633690744638443\n",
      "12, 1.1299149990081787\n",
      "13, 1.096661925315857\n",
      "14, 0.0235043466091156\n"
     ]
    }
   ],
   "source": [
    "for i in range(len(audioDataset)):\n",
    "    wave = audioDataset[i]\n",
    "    if torch.any(wave > 0.02):\n",
    "        print(f'{i}, {wave.max()}')"
   ]
  },
  {
   "cell_type": "code",
   "execution_count": 94,
   "metadata": {},
   "outputs": [],
   "source": [
    "i=3\n",
    "wave = audioDataset[i]"
   ]
  },
  {
   "cell_type": "code",
   "execution_count": 95,
   "metadata": {},
   "outputs": [
    {
     "name": "stdout",
     "output_type": "stream",
     "text": [
      "Opening in existing browser session.\n"
     ]
    }
   ],
   "source": [
    "import pandas as pd\n",
    "import numpy as np\n",
    "from datetime import timedelta\n",
    "import plotly.express as px\n",
    "\n",
    "df = pd.DataFrame(wave.T, columns=['channel1', 'channel2'])\n",
    "df.index = df.index + i*audioDataset.chunk_size\n",
    "df['time_s'] = df.index / sample_rate\n",
    "df = df[::500]\n",
    "df['timedelta'] = df['time_s'].apply(lambda x: str(timedelta(seconds=x)))\n",
    "\n",
    "fig = px.line(df, x='timedelta', y=['channel1', 'channel2'])\n",
    "# update layout to show xticklabels as timedelta\n",
    "# fig.update_layout(xaxis=dict(\n",
    "#     tickmode='array', \n",
    "#     tickvals=df.index, \n",
    "#     ticktext=df['timedelta']\n",
    "# ))\n",
    "fig.show(renderer='browser')"
   ]
  },
  {
   "cell_type": "code",
   "execution_count": 62,
   "metadata": {},
   "outputs": [
    {
     "name": "stdout",
     "output_type": "stream",
     "text": [
      "Opening in existing browser session.\n"
     ]
    }
   ],
   "source": [
    "# manual labelling\n",
    "labels = [\n",
    "    {'start': '00:03:09', 'end': '00:03:11', 'label': 'Alireza'},\n",
    "    {'start': '00:41:08', 'end': '00:41:10', 'label': 'Hamed'},\n",
    "    {'start': '00:52:42', 'end': '00:52:44', 'label': 'Musa'},\n",
    "    # ...\n",
    "]"
   ]
  },
  {
   "cell_type": "code",
   "execution_count": null,
   "metadata": {},
   "outputs": [],
   "source": []
  }
 ],
 "metadata": {
  "kernelspec": {
   "display_name": "Python 3",
   "language": "python",
   "name": "python3"
  },
  "language_info": {
   "codemirror_mode": {
    "name": "ipython",
    "version": 3
   },
   "file_extension": ".py",
   "mimetype": "text/x-python",
   "name": "python",
   "nbconvert_exporter": "python",
   "pygments_lexer": "ipython3",
   "version": "3.10.12"
  }
 },
 "nbformat": 4,
 "nbformat_minor": 2
}
