{
 "cells": [
  {
   "cell_type": "code",
   "execution_count": 390,
   "metadata": {},
   "outputs": [],
   "source": [
    "import torch\n",
    "import torchaudio\n",
    "from pathlib import Path\n",
    "from torch.utils.data import Dataset, DataLoader\n",
    "import json\n",
    "from datetime import timedelta, datetime\n",
    "from sklearn.model_selection import train_test_split\n",
    "import matplotlib.pyplot as plt\n",
    "from tqdm import tqdm\n",
    "import numpy as np\n",
    "import pandas as pd"
   ]
  },
  {
   "cell_type": "code",
   "execution_count": 391,
   "metadata": {},
   "outputs": [],
   "source": [
    "audiofile = Path('/home/musa/who-opened-the-door/data/april_12_7h.ogg')\n",
    "labelsfile = Path('/home/musa/who-opened-the-door/data/april_12.json')"
   ]
  },
  {
   "cell_type": "code",
   "execution_count": 392,
   "metadata": {},
   "outputs": [
    {
     "data": {
      "text/plain": [
       "(44100, 1111320768, 2, 'VORBIS')"
      ]
     },
     "execution_count": 392,
     "metadata": {},
     "output_type": "execute_result"
    }
   ],
   "source": [
    "metadata = torchaudio.info(str(audiofile))\n",
    "sample_rate = metadata.sample_rate\n",
    "n_frames = metadata.num_frames\n",
    "n_channels = metadata.num_channels\n",
    "encoding = metadata.encoding # VORBIS for .ogg files\n",
    "sample_rate, n_frames, n_channels, encoding"
   ]
  },
  {
   "cell_type": "code",
   "execution_count": 393,
   "metadata": {},
   "outputs": [],
   "source": [
    "labels_map = {\n",
    "    'None': 0,\n",
    "    'Alireza': 1,\n",
    "    'Lex': 2,\n",
    "    'Ali': 3,\n",
    "    'Hamed': 4,\n",
    "    'Valafar': 5,\n",
    "    'Andrew': 6,\n",
    "    'Chris': 7,\n",
    "    'Musa': 8,\n",
    "    'Other': 9\n",
    "}"
   ]
  },
  {
   "cell_type": "code",
   "execution_count": 394,
   "metadata": {},
   "outputs": [],
   "source": [
    "class AudioDataset(Dataset):\n",
    "    def __init__(self, audio_file, labelsfile, metadata=None, chunk_size=50_000_000):\n",
    "        audio_file = str(audio_file)\n",
    "        self.audio_file = audio_file\n",
    "        self.chunk_size = chunk_size\n",
    "        \n",
    "        if not metadata:\n",
    "            metadata = torchaudio.info(audio_file)\n",
    "        self.sample_rate = metadata.sample_rate\n",
    "        \n",
    "        if self.chunk_size is None:\n",
    "            self.chunk_size = metadata.num_frames\n",
    "            \n",
    "        self.num_chunks = metadata.num_frames // self.chunk_size\n",
    "\n",
    "        labels = json.load(open(labelsfile))\n",
    "        self.y = torch.zeros(metadata.num_frames, dtype=torch.float32)\n",
    "        for label in labels:\n",
    "            start = label['start']\n",
    "            person = label['label'] # for now, just binary classification so ignore\n",
    "            d = datetime.strptime(start, '%H:%M:%S')\n",
    "            d = timedelta(hours=d.hour, minutes=d.minute, seconds=d.second)\n",
    "            start_time = int(d.total_seconds() * metadata.sample_rate)\n",
    "            end_time = start_time + 6 * metadata.sample_rate # 5 seconds\n",
    "            self.y[start_time:end_time] = float(labels_map[person])\n",
    "\n",
    "    def __len__(self):\n",
    "        return self.num_chunks\n",
    "\n",
    "    def __getitem__(self, idx):\n",
    "        start_frame = idx * self.chunk_size\n",
    "        audio_chunk, _ = torchaudio.load(self.audio_file, frame_offset=start_frame, num_frames=self.chunk_size)\n",
    "        labels = self.y[start_frame:start_frame+self.chunk_size]\n",
    "        return audio_chunk, labels"
   ]
  },
  {
   "cell_type": "code",
   "execution_count": 395,
   "metadata": {},
   "outputs": [],
   "source": [
    "chunk_size = 100_000_000\n",
    "audioDataset = AudioDataset(audiofile, labelsfile, metadata, chunk_size)\n",
    "wave, labels = audioDataset[1]\n",
    "# number of mb in the audio file:\n",
    "len(wave.flatten()) * wave.element_size() / 1e6\n",
    "last_chunk = -1"
   ]
  },
  {
   "cell_type": "code",
   "execution_count": 396,
   "metadata": {},
   "outputs": [
    {
     "data": {
      "text/plain": [
       "[<matplotlib.lines.Line2D at 0x77295429e5c0>]"
      ]
     },
     "execution_count": 396,
     "metadata": {},
     "output_type": "execute_result"
    },
    {
     "data": {
      "image/png": "[encoded data removed]",
      "text/plain": [
       "<Figure size 640x480 with 3 Axes>"
      ]
     },
     "metadata": {},
     "output_type": "display_data"
    }
   ],
   "source": [
    "fig,axes = plt.subplots(3, sharex=True)\n",
    "sample_rate = audioDataset.sample_rate\n",
    "start_time = (1*3600 + 5*60 + 25) * sample_rate\n",
    "chunk = start_time // chunk_size\n",
    "if chunk != last_chunk:\n",
    "    wave, labels = audioDataset[chunk]\n",
    "    last_chunk = chunk\n",
    "start_time = start_time % chunk_size\n",
    "axes[0].plot(wave[0,start_time:start_time+30*sample_rate:100].numpy())\n",
    "axes[1].plot(wave[1,start_time:start_time+30*sample_rate:100].numpy(), color='orange')\n",
    "axes[2].plot(labels[start_time:start_time+30*sample_rate:100].numpy(), color='red')"
   ]
  },
  {
   "cell_type": "code",
   "execution_count": null,
   "metadata": {},
   "outputs": [],
   "source": [
    "# Save as tensors\n",
    "X = []\n",
    "y = []\n",
    "for i in tqdm(range(len(audioDataset))):\n",
    "    wave, labels = audioDataset[i]\n",
    "    wave = wave[:,::100] # downsample by 100\n",
    "    labels = labels[::100]\n",
    "    X.append(wave)\n",
    "    y.append(labels)\n",
    "X = torch.cat(X, dim=1)\n",
    "y = torch.cat(y)\n",
    "\n",
    "outdir = Path('/home/musa/who-opened-the-door/data/april_12_dec100')\n",
    "outdir.mkdir(exist_ok=True)\n",
    "torch.save(X, outdir / 'X.pt')\n",
    "torch.save(y, outdir / 'y.pt')"
   ]
  },
  {
   "cell_type": "markdown",
   "metadata": {},
   "source": [
    "# Step 2"
   ]
  },
  {
   "cell_type": "code",
   "execution_count": null,
   "metadata": {},
   "outputs": [],
   "source": [
    "# import math\n",
    "\n",
    "# class WindowedAudioDataset(Dataset):\n",
    "#     def __init__(self, audio_file, labelsfile, window_size, stride, idxs=None):\n",
    "#         audio_file = str(audio_file)\n",
    "#         self.audio_file = audio_file\n",
    "#         self.window_size = window_size\n",
    "#         self.stride = stride        \n",
    "\n",
    "#         metadata = torchaudio.info(audio_file)\n",
    "        \n",
    "#         self.idxs = idxs\n",
    "#         self.len_ = len(idxs) if idxs else math.ceil(metadata.num_frames / stride)\n",
    "\n",
    "#         labels = json.load(open(labelsfile))\n",
    "#         self.y = torch.zeros(metadata.num_frames, dtype=torch.int64)\n",
    "#         for label in labels:\n",
    "#             start = label['start']\n",
    "#             person = label['label'] # for now, just binary classification so ignore\n",
    "#             d = datetime.strptime(start, '%H:%M:%S')\n",
    "#             d = timedelta(hours=d.hour, minutes=d.minute, seconds=d.second)\n",
    "#             start_time = int(d.total_seconds() * metadata.sample_rate)\n",
    "#             end_time = start_time + 5 * metadata.sample_rate # 5 seconds\n",
    "#             self.y[start_time:end_time] = 1\n",
    "\n",
    "#     def __len__(self):\n",
    "#         return self.len_\n",
    "\n",
    "#     def __getitem__(self, idx):\n",
    "#         if self.idxs:\n",
    "#             idx = self.idxs[idx]\n",
    "#         start_frame = idx * self.stride\n",
    "#         audio_chunk, _ = torchaudio.load(\n",
    "#             self.audio_file,\n",
    "#             frame_offset=start_frame,\n",
    "#             num_frames=self.window_size\n",
    "#         )\n",
    "#         if audio_chunk.shape[1] < self.window_size:\n",
    "#             audio_chunk = torch.cat([audio_chunk, torch.zeros(2, self.window_size - audio_chunk.shape[1])], dim=1)\n",
    "#         labels = self.y[start_frame:start_frame+self.window_size].mode().values\n",
    "#         return audio_chunk, labels"
   ]
  },
  {
   "cell_type": "code",
   "execution_count": null,
   "metadata": {},
   "outputs": [],
   "source": [
    "# stride = 1*sample_rate\n",
    "# window_size = 5*sample_rate\n",
    "# idxs = list(range(0, math.ceil(metadata.num_frames / stride)))\n",
    "# train_idxs, val_idxs = train_test_split(idxs, test_size=0.2)\n",
    "# train_idxs.__len__()\n",
    "# train_dataset = WindowedAudioDataset(audiofile, labelsfile, window_size, stride, train_idxs)\n",
    "# val_dataset = WindowedAudioDataset(audiofile, labelsfile, window_size, stride, val_idxs)\n",
    "# trainloader = DataLoader(train_dataset, batch_size=64, shuffle=True)\n",
    "# testloader = DataLoader(val_dataset, batch_size=64, shuffle=False)"
   ]
  },
  {
   "cell_type": "code",
   "execution_count": 275,
   "metadata": {},
   "outputs": [],
   "source": [
    "import math\n",
    "\n",
    "class WindowedAudioDataset(Dataset):\n",
    "    def __init__(self, X, y, window_size, stride):\n",
    "        self.window_size = window_size\n",
    "        self.stride = stride\n",
    "\n",
    "        self.X = X\n",
    "        self.y = y\n",
    "        self.y = torch.where(y != 0, torch.ones_like(y), torch.zeros_like(y))\n",
    "        self.len = math.ceil(self.X.shape[1] / self.stride)\n",
    "\n",
    "        self.X = torch.cat([self.X, torch.zeros(X.shape[0], self.window_size-1)], dim=1)\n",
    "\n",
    "    def __len__(self):\n",
    "        return self.len\n",
    "\n",
    "    def __getitem__(self, idx):\n",
    "        if idx >= self.len:\n",
    "            raise IndexError()\n",
    "        return (\n",
    "            self.X[:,(idx*self.stride):(idx*self.stride)+self.window_size],\n",
    "            self.y[(idx*self.stride):(idx*self.stride)+self.window_size].mode().values.unsqueeze(0)\n",
    "        )\n",
    "    \n",
    "class DataSetSplit(Dataset):\n",
    "    def __init__(self, dataset, idxs):\n",
    "        self.dataset = dataset\n",
    "        self.idxs = idxs\n",
    "\n",
    "    def __len__(self):\n",
    "        return len(self.idxs)\n",
    "\n",
    "    def __getitem__(self, idx):\n",
    "        return self.dataset[self.idxs[idx]]"
   ]
  },
  {
   "cell_type": "code",
   "execution_count": 456,
   "metadata": {},
   "outputs": [
    {
     "name": "stdout",
     "output_type": "stream",
     "text": [
      "407408\n",
      "305556 101852\n"
     ]
    }
   ],
   "source": [
    "outdir = Path('/home/musa/who-opened-the-door/data/april_12_dec100')\n",
    "\n",
    "sample_rate = 44100 // 100\n",
    "stride = sample_rate // 16       \n",
    "window_size = 15*sample_rate     \n",
    "\n",
    "Xload = torch.load(outdir / 'X.pt')\n",
    "yload = torch.load(outdir / 'y.pt')\n",
    "imbalance = yload[yload == 0].shape[0] / yload[yload != 0].shape[0]\n",
    "\n",
    "dataset = WindowedAudioDataset(Xload, yload, window_size, stride)\n",
    "print(len(dataset))\n",
    "\n",
    "test_size = 0.25\n",
    "idxs = list(range(len(dataset)))\n",
    "# train_idxs, val_idxs = train_test_split(idxs, test_size=0.25)\n",
    "train_idxs = idxs[:-int(len(dataset)*test_size)]\n",
    "val_idxs = idxs[-int(len(dataset)*test_size):]\n",
    "print(len(train_idxs), len(val_idxs))\n",
    "\n",
    "train_dataset = DataSetSplit(dataset, train_idxs)\n",
    "val_dataset = DataSetSplit(dataset, val_idxs)\n",
    "\n",
    "trainloader = DataLoader(train_dataset, batch_size=64, shuffle=True)\n",
    "valloader = DataLoader(val_dataset, batch_size=64, shuffle=False)"
   ]
  },
  {
   "cell_type": "code",
   "execution_count": 457,
   "metadata": {},
   "outputs": [],
   "source": [
    "from torch import nn\n",
    "import torch.nn.functional as F\n",
    "\n",
    "class AudioNet(nn.Module):\n",
    "    def __init__(self, input_size):\n",
    "        super().__init__()\n",
    "        self.fc1 = nn.Linear(input_size*2, 8)\n",
    "        self.fc2 = nn.Linear(8, 1)\n",
    "    def forward(self, x):\n",
    "        x = x.flatten(1)\n",
    "        x = torch.relu(self.fc1(x))\n",
    "        x = self.fc2(x)\n",
    "        return x"
   ]
  },
  {
   "cell_type": "code",
   "execution_count": 462,
   "metadata": {},
   "outputs": [],
   "source": [
    "device = 'cuda:0'\n",
    "model = AudioNet(window_size).to(device)\n",
    "criterion = torch.nn.BCEWithLogitsLoss(pos_weight=torch.tensor(imbalance))\n",
    "optimizer = torch.optim.Adam(model.parameters(), lr=3e-4)"
   ]
  },
  {
   "cell_type": "code",
   "execution_count": 463,
   "metadata": {},
   "outputs": [
    {
     "name": "stderr",
     "output_type": "stream",
     "text": [
      "  0%|          | 0/100 [00:00<?, ?it/s]/home/musa/who-opened-the-door/.venv/lib/python3.10/site-packages/sklearn/metrics/_classification.py:1509: UndefinedMetricWarning:\n",
      "\n",
      "F-score is ill-defined and being set to 0.0 due to no true nor predicted samples. Use `zero_division` parameter to control this behavior.\n",
      "\n",
      "  1%|          | 1/100 [00:51<1:24:19, 51.11s/it, loss=0.15, val_loss=0.00433, f1=0, predsum=0]/home/musa/who-opened-the-door/.venv/lib/python3.10/site-packages/sklearn/metrics/_classification.py:1509: UndefinedMetricWarning:\n",
      "\n",
      "F-score is ill-defined and being set to 0.0 due to no true nor predicted samples. Use `zero_division` parameter to control this behavior.\n",
      "\n",
      "  2%|▏         | 2/100 [01:49<1:30:18, 55.29s/it, loss=0.00129, val_loss=0.000218, f1=0, predsum=0]/home/musa/who-opened-the-door/.venv/lib/python3.10/site-packages/sklearn/metrics/_classification.py:1509: UndefinedMetricWarning:\n",
      "\n",
      "F-score is ill-defined and being set to 0.0 due to no true nor predicted samples. Use `zero_division` parameter to control this behavior.\n",
      "\n",
      "  3%|▎         | 3/100 [03:27<1:51:45, 69.13s/it, loss=7.41e-5, val_loss=1.5e-5, f1=0, predsum=0]  \n"
     ]
    },
    {
     "ename": "KeyboardInterrupt",
     "evalue": "",
     "output_type": "error",
     "traceback": [
      "\u001b[0;31m---------------------------------------------------------------------------\u001b[0m",
      "\u001b[0;31mKeyboardInterrupt\u001b[0m                         Traceback (most recent call last)",
      "Cell \u001b[0;32mIn[463], line 24\u001b[0m\n\u001b[1;32m     22\u001b[0m y_true \u001b[38;5;241m=\u001b[39m []\n\u001b[1;32m     23\u001b[0m y_pred \u001b[38;5;241m=\u001b[39m []\n\u001b[0;32m---> 24\u001b[0m \u001b[38;5;28;01mfor\u001b[39;00m X,y \u001b[38;5;129;01min\u001b[39;00m valloader:\n\u001b[1;32m     25\u001b[0m     y_true\u001b[38;5;241m.\u001b[39mappend(y)\n\u001b[1;32m     26\u001b[0m     X \u001b[38;5;241m=\u001b[39m X\u001b[38;5;241m.\u001b[39mto(device)\n",
      "File \u001b[0;32m~/who-opened-the-door/.venv/lib/python3.10/site-packages/torch/utils/data/dataloader.py:631\u001b[0m, in \u001b[0;36m_BaseDataLoaderIter.__next__\u001b[0;34m(self)\u001b[0m\n\u001b[1;32m    628\u001b[0m \u001b[38;5;28;01mif\u001b[39;00m \u001b[38;5;28mself\u001b[39m\u001b[38;5;241m.\u001b[39m_sampler_iter \u001b[38;5;129;01mis\u001b[39;00m \u001b[38;5;28;01mNone\u001b[39;00m:\n\u001b[1;32m    629\u001b[0m     \u001b[38;5;66;03m# TODO(https://github.com/pytorch/pytorch/issues/76750)\u001b[39;00m\n\u001b[1;32m    630\u001b[0m     \u001b[38;5;28mself\u001b[39m\u001b[38;5;241m.\u001b[39m_reset()  \u001b[38;5;66;03m# type: ignore[call-arg]\u001b[39;00m\n\u001b[0;32m--> 631\u001b[0m data \u001b[38;5;241m=\u001b[39m \u001b[38;5;28;43mself\u001b[39;49m\u001b[38;5;241;43m.\u001b[39;49m\u001b[43m_next_data\u001b[49m\u001b[43m(\u001b[49m\u001b[43m)\u001b[49m\n\u001b[1;32m    632\u001b[0m \u001b[38;5;28mself\u001b[39m\u001b[38;5;241m.\u001b[39m_num_yielded \u001b[38;5;241m+\u001b[39m\u001b[38;5;241m=\u001b[39m \u001b[38;5;241m1\u001b[39m\n\u001b[1;32m    633\u001b[0m \u001b[38;5;28;01mif\u001b[39;00m \u001b[38;5;28mself\u001b[39m\u001b[38;5;241m.\u001b[39m_dataset_kind \u001b[38;5;241m==\u001b[39m _DatasetKind\u001b[38;5;241m.\u001b[39mIterable \u001b[38;5;129;01mand\u001b[39;00m \\\n\u001b[1;32m    634\u001b[0m         \u001b[38;5;28mself\u001b[39m\u001b[38;5;241m.\u001b[39m_IterableDataset_len_called \u001b[38;5;129;01mis\u001b[39;00m \u001b[38;5;129;01mnot\u001b[39;00m \u001b[38;5;28;01mNone\u001b[39;00m \u001b[38;5;129;01mand\u001b[39;00m \\\n\u001b[1;32m    635\u001b[0m         \u001b[38;5;28mself\u001b[39m\u001b[38;5;241m.\u001b[39m_num_yielded \u001b[38;5;241m>\u001b[39m \u001b[38;5;28mself\u001b[39m\u001b[38;5;241m.\u001b[39m_IterableDataset_len_called:\n",
      "File \u001b[0;32m~/who-opened-the-door/.venv/lib/python3.10/site-packages/torch/utils/data/dataloader.py:675\u001b[0m, in \u001b[0;36m_SingleProcessDataLoaderIter._next_data\u001b[0;34m(self)\u001b[0m\n\u001b[1;32m    673\u001b[0m \u001b[38;5;28;01mdef\u001b[39;00m \u001b[38;5;21m_next_data\u001b[39m(\u001b[38;5;28mself\u001b[39m):\n\u001b[1;32m    674\u001b[0m     index \u001b[38;5;241m=\u001b[39m \u001b[38;5;28mself\u001b[39m\u001b[38;5;241m.\u001b[39m_next_index()  \u001b[38;5;66;03m# may raise StopIteration\u001b[39;00m\n\u001b[0;32m--> 675\u001b[0m     data \u001b[38;5;241m=\u001b[39m \u001b[38;5;28;43mself\u001b[39;49m\u001b[38;5;241;43m.\u001b[39;49m\u001b[43m_dataset_fetcher\u001b[49m\u001b[38;5;241;43m.\u001b[39;49m\u001b[43mfetch\u001b[49m\u001b[43m(\u001b[49m\u001b[43mindex\u001b[49m\u001b[43m)\u001b[49m  \u001b[38;5;66;03m# may raise StopIteration\u001b[39;00m\n\u001b[1;32m    676\u001b[0m     \u001b[38;5;28;01mif\u001b[39;00m \u001b[38;5;28mself\u001b[39m\u001b[38;5;241m.\u001b[39m_pin_memory:\n\u001b[1;32m    677\u001b[0m         data \u001b[38;5;241m=\u001b[39m _utils\u001b[38;5;241m.\u001b[39mpin_memory\u001b[38;5;241m.\u001b[39mpin_memory(data, \u001b[38;5;28mself\u001b[39m\u001b[38;5;241m.\u001b[39m_pin_memory_device)\n",
      "File \u001b[0;32m~/who-opened-the-door/.venv/lib/python3.10/site-packages/torch/utils/data/_utils/fetch.py:54\u001b[0m, in \u001b[0;36m_MapDatasetFetcher.fetch\u001b[0;34m(self, possibly_batched_index)\u001b[0m\n\u001b[1;32m     52\u001b[0m \u001b[38;5;28;01melse\u001b[39;00m:\n\u001b[1;32m     53\u001b[0m     data \u001b[38;5;241m=\u001b[39m \u001b[38;5;28mself\u001b[39m\u001b[38;5;241m.\u001b[39mdataset[possibly_batched_index]\n\u001b[0;32m---> 54\u001b[0m \u001b[38;5;28;01mreturn\u001b[39;00m \u001b[38;5;28;43mself\u001b[39;49m\u001b[38;5;241;43m.\u001b[39;49m\u001b[43mcollate_fn\u001b[49m\u001b[43m(\u001b[49m\u001b[43mdata\u001b[49m\u001b[43m)\u001b[49m\n",
      "File \u001b[0;32m~/who-opened-the-door/.venv/lib/python3.10/site-packages/torch/utils/data/_utils/collate.py:316\u001b[0m, in \u001b[0;36mdefault_collate\u001b[0;34m(batch)\u001b[0m\n\u001b[1;32m    255\u001b[0m \u001b[38;5;28;01mdef\u001b[39;00m \u001b[38;5;21mdefault_collate\u001b[39m(batch):\n\u001b[1;32m    256\u001b[0m \u001b[38;5;250m    \u001b[39m\u001b[38;5;124mr\u001b[39m\u001b[38;5;124;03m\"\"\"\u001b[39;00m\n\u001b[1;32m    257\u001b[0m \u001b[38;5;124;03m    Take in a batch of data and put the elements within the batch into a tensor with an additional outer dimension - batch size.\u001b[39;00m\n\u001b[1;32m    258\u001b[0m \n\u001b[0;32m   (...)\u001b[0m\n\u001b[1;32m    314\u001b[0m \u001b[38;5;124;03m        >>> default_collate(batch)  # Handle `CustomType` automatically\u001b[39;00m\n\u001b[1;32m    315\u001b[0m \u001b[38;5;124;03m    \"\"\"\u001b[39;00m\n\u001b[0;32m--> 316\u001b[0m     \u001b[38;5;28;01mreturn\u001b[39;00m \u001b[43mcollate\u001b[49m\u001b[43m(\u001b[49m\u001b[43mbatch\u001b[49m\u001b[43m,\u001b[49m\u001b[43m \u001b[49m\u001b[43mcollate_fn_map\u001b[49m\u001b[38;5;241;43m=\u001b[39;49m\u001b[43mdefault_collate_fn_map\u001b[49m\u001b[43m)\u001b[49m\n",
      "File \u001b[0;32m~/who-opened-the-door/.venv/lib/python3.10/site-packages/torch/utils/data/_utils/collate.py:162\u001b[0m, in \u001b[0;36mcollate\u001b[0;34m(batch, collate_fn_map)\u001b[0m\n\u001b[1;32m    158\u001b[0m     \u001b[38;5;28;01mexcept\u001b[39;00m \u001b[38;5;167;01mTypeError\u001b[39;00m:\n\u001b[1;32m    159\u001b[0m         \u001b[38;5;66;03m# The mapping type may not support `copy()` / `update(mapping)`\u001b[39;00m\n\u001b[1;32m    160\u001b[0m         \u001b[38;5;66;03m# or `__init__(iterable)`.\u001b[39;00m\n\u001b[1;32m    161\u001b[0m         \u001b[38;5;28;01mreturn\u001b[39;00m {key: collate([d[key] \u001b[38;5;28;01mfor\u001b[39;00m d \u001b[38;5;129;01min\u001b[39;00m batch], collate_fn_map\u001b[38;5;241m=\u001b[39mcollate_fn_map) \u001b[38;5;28;01mfor\u001b[39;00m key \u001b[38;5;129;01min\u001b[39;00m elem}\n\u001b[0;32m--> 162\u001b[0m \u001b[38;5;28;01melif\u001b[39;00m \u001b[38;5;28misinstance\u001b[39m(elem, \u001b[38;5;28mtuple\u001b[39m) \u001b[38;5;129;01mand\u001b[39;00m \u001b[38;5;28;43mhasattr\u001b[39;49m\u001b[43m(\u001b[49m\u001b[43melem\u001b[49m\u001b[43m,\u001b[49m\u001b[43m \u001b[49m\u001b[38;5;124;43m'\u001b[39;49m\u001b[38;5;124;43m_fields\u001b[39;49m\u001b[38;5;124;43m'\u001b[39;49m\u001b[43m)\u001b[49m:  \u001b[38;5;66;03m# namedtuple\u001b[39;00m\n\u001b[1;32m    163\u001b[0m     \u001b[38;5;28;01mreturn\u001b[39;00m elem_type(\u001b[38;5;241m*\u001b[39m(collate(samples, collate_fn_map\u001b[38;5;241m=\u001b[39mcollate_fn_map) \u001b[38;5;28;01mfor\u001b[39;00m samples \u001b[38;5;129;01min\u001b[39;00m \u001b[38;5;28mzip\u001b[39m(\u001b[38;5;241m*\u001b[39mbatch)))\n\u001b[1;32m    164\u001b[0m \u001b[38;5;28;01melif\u001b[39;00m \u001b[38;5;28misinstance\u001b[39m(elem, collections\u001b[38;5;241m.\u001b[39mabc\u001b[38;5;241m.\u001b[39mSequence):\n\u001b[1;32m    165\u001b[0m     \u001b[38;5;66;03m# check to make sure that the elements in batch have consistent size\u001b[39;00m\n",
      "\u001b[0;31mKeyboardInterrupt\u001b[0m: "
     ]
    }
   ],
   "source": [
    "from sklearn.metrics import f1_score\n",
    "\n",
    "train_losses = []\n",
    "val_losses = []\n",
    "best_f1 = 0\n",
    "for epoch in (pbar := tqdm(range(100))):\n",
    "    train_loss = 0\n",
    "    for X,y in trainloader:\n",
    "        X = X.to(device)\n",
    "        y = y.to(device)\n",
    "        logits = model(X)\n",
    "        loss = criterion(logits, y)\n",
    "        optimizer.zero_grad()\n",
    "        loss.backward()\n",
    "        optimizer.step()\n",
    "    \n",
    "        train_loss += loss.item()\n",
    "    train_losses.append(train_loss / len(trainloader))\n",
    "\n",
    "    with torch.no_grad():\n",
    "        val_loss = 0\n",
    "        y_true = []\n",
    "        y_pred = []\n",
    "        for X,y in valloader:\n",
    "            y_true.append(y)\n",
    "            X = X.to(device)\n",
    "            y = y.to(device)\n",
    "            logits = model(X)\n",
    "            val_loss += criterion(logits, y).item()\n",
    "            y_pred.append(torch.round(F.sigmoid(logits)))\n",
    "        val_losses.append(val_loss / len(valloader))\n",
    "        y_true = torch.cat(y_true).cpu().numpy()\n",
    "        y_pred = torch.cat(y_pred).cpu().numpy()\n",
    "        f1 = f1_score(y_true, y_pred, average='binary', zero_division=0)\n",
    "    \n",
    "    if f1 > best_f1:\n",
    "        best_f1 = f1\n",
    "        torch.save(model.state_dict(), 'model.pt')\n",
    "\n",
    "    pbar.set_postfix({'loss': train_losses[-1], 'val_loss': val_losses[-1], 'f1': f1, 'predsum': y_pred.sum()})"
   ]
  },
  {
   "cell_type": "code",
   "execution_count": 464,
   "metadata": {},
   "outputs": [
    {
     "data": {
      "text/plain": [
       "<matplotlib.legend.Legend at 0x772945c77df0>"
      ]
     },
     "execution_count": 464,
     "metadata": {},
     "output_type": "execute_result"
    },
    {
     "data": {
      "image/png": "[encoded data removed]",
      "text/plain": [
       "<Figure size 640x480 with 1 Axes>"
      ]
     },
     "metadata": {},
     "output_type": "display_data"
    }
   ],
   "source": [
    "plt.plot(train_losses, label='train')\n",
    "plt.plot(val_losses, label='val')\n",
    "plt.legend()"
   ]
  },
  {
   "cell_type": "code",
   "execution_count": 466,
   "metadata": {},
   "outputs": [
    {
     "ename": "OutOfMemoryError",
     "evalue": "CUDA out of memory. Tried to allocate 20.00 MiB. GPU ",
     "output_type": "error",
     "traceback": [
      "\u001b[0;31m---------------------------------------------------------------------------\u001b[0m",
      "\u001b[0;31mOutOfMemoryError\u001b[0m                          Traceback (most recent call last)",
      "Cell \u001b[0;32mIn[466], line 12\u001b[0m\n\u001b[1;32m     10\u001b[0m val_X \u001b[38;5;241m=\u001b[39m []\n\u001b[1;32m     11\u001b[0m \u001b[38;5;28;01mfor\u001b[39;00m X,y \u001b[38;5;129;01min\u001b[39;00m valloader:\n\u001b[0;32m---> 12\u001b[0m     X \u001b[38;5;241m=\u001b[39m \u001b[43mX\u001b[49m\u001b[38;5;241;43m.\u001b[39;49m\u001b[43mto\u001b[49m\u001b[43m(\u001b[49m\u001b[43mdevice\u001b[49m\u001b[43m)\u001b[49m\n\u001b[1;32m     13\u001b[0m     y \u001b[38;5;241m=\u001b[39m y\u001b[38;5;241m.\u001b[39mto(device)\n\u001b[1;32m     14\u001b[0m     logits \u001b[38;5;241m=\u001b[39m model(X)\n",
      "\u001b[0;31mOutOfMemoryError\u001b[0m: CUDA out of memory. Tried to allocate 20.00 MiB. GPU "
     ]
    }
   ],
   "source": [
    "# evaluate\n",
    "from sklearn.metrics import confusion_matrix, precision_recall_fscore_support\n",
    "import seaborn as sns\n",
    "\n",
    "# model.load_state_dict(torch.load('model.pt'))\n",
    "model.eval()\n",
    "with torch.no_grad():\n",
    "    y_true = []\n",
    "    y_pred = []\n",
    "    val_X = []\n",
    "    for X,y in valloader:\n",
    "        X = X.to(device)\n",
    "        y = y.to(device)\n",
    "        logits = model(X)\n",
    "        y_true.append(y)\n",
    "        y_pred.append(torch.round(F.sigmoid(logits)))\n",
    "        val_X.append(X)\n",
    "    y_true = torch.cat(y_true).cpu().numpy()\n",
    "    y_pred = torch.cat(y_pred).cpu().numpy()\n",
    "    val_X = torch.cat(val_X).cpu().numpy()\n",
    "precision, recall, f1, _ = precision_recall_fscore_support(y_true, y_pred)\n",
    "cm = confusion_matrix(y_true, y_pred)\n",
    "\n",
    "print(precision, recall, f1)\n",
    "sns.heatmap(cm, annot=True, cbar=False)\n",
    "plt.xlabel('Predicted')\n",
    "plt.ylabel('True');"
   ]
  },
  {
   "cell_type": "code",
   "execution_count": 452,
   "metadata": {},
   "outputs": [
    {
     "data": {
      "text/plain": [
       "(array([ 3064,  3065,  3066,  3067,  3068,  3069,  3070,  3071,  3072,\n",
       "         3073,  3074,  3075,  3076,  3077,  3078,  3079,  3080,  3081,\n",
       "         3082,  3083,  3084,  3085,  3086,  3087, 10272, 10273, 10274,\n",
       "        10275, 10276, 10277, 10278, 10279, 10280, 10281, 10282, 10283,\n",
       "        10284, 10285, 10286, 10287, 10288, 10289, 10290, 10291, 10292,\n",
       "        10293, 10294, 10295, 13018, 13019, 13020, 13021, 13022, 13023,\n",
       "        13024, 13025, 13026, 13027, 13028, 13029, 13030, 13031, 13032,\n",
       "        13033, 13034, 13035, 13036, 13037, 13038, 13039, 13040, 13041]),\n",
       " array([0, 0, 0, 0, 0, 0, 0, 0, 0, 0, 0, 0, 0, 0, 0, 0, 0, 0, 0, 0, 0, 0,\n",
       "        0, 0, 0, 0, 0, 0, 0, 0, 0, 0, 0, 0, 0, 0, 0, 0, 0, 0, 0, 0, 0, 0,\n",
       "        0, 0, 0, 0, 0, 0, 0, 0, 0, 0, 0, 0, 0, 0, 0, 0, 0, 0, 0, 0, 0, 0,\n",
       "        0, 0, 0, 0, 0, 0]))"
      ]
     },
     "execution_count": 452,
     "metadata": {},
     "output_type": "execute_result"
    }
   ],
   "source": [
    "np.where(y_true == 1)"
   ]
  },
  {
   "cell_type": "code",
   "execution_count": 437,
   "metadata": {},
   "outputs": [],
   "source": [
    "import plotly.express as px\n",
    "i = 750\n",
    "dur = 60\n",
    "df = pd.DataFrame(dict(\n",
    "    channelA=val_X[i:i+dur,0,window_size//2-stride//2:window_size//2+stride//2+1].flatten(),\n",
    "    channelB=val_X[i:i+dur,1,window_size//2-stride//2:window_size//2+stride//2+1].flatten(),\n",
    "    label=np.pad(y_true[i:i+dur], ((0,0),(0, stride-1)), 'edge').flatten(),\n",
    "    pred=np.pad(y_pred[i:i+dur], ((0,0),(0, stride-1)), 'edge').flatten(),\n",
    "))\n",
    "fig = px.line(df[::10], y=['channelA', 'channelB', 'label', 'pred'])\n",
    "fig.show(renderer='browser')"
   ]
  }
 ],
 "metadata": {
  "kernelspec": {
   "display_name": "Python 3",
   "language": "python",
   "name": "python3"
  },
  "language_info": {
   "codemirror_mode": {
    "name": "ipython",
    "version": 3
   },
   "file_extension": ".py",
   "mimetype": "text/x-python",
   "name": "python",
   "nbconvert_exporter": "python",
   "pygments_lexer": "ipython3",
   "version": "3.10.12"
  }
 },
 "nbformat": 4,
 "nbformat_minor": 2
}
