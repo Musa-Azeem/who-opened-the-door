{
 "cells": [
  {
   "cell_type": "code",
   "execution_count": 23,
   "metadata": {},
   "outputs": [],
   "source": [
    "import torch\n",
    "import torchaudio\n",
    "from pathlib import Path\n",
    "from torch.utils.data import Dataset, DataLoader\n",
    "import json\n",
    "from datetime import timedelta, datetime\n",
    "from sklearn.model_selection import train_test_split\n",
    "import matplotlib.pyplot as plt\n",
    "from tqdm import tqdm\n",
    "import numpy as np"
   ]
  },
  {
   "cell_type": "code",
   "execution_count": 2,
   "metadata": {},
   "outputs": [],
   "source": [
    "audiofile = Path('/home/musa/who-opened-the-door/data/april_12_7h.ogg')\n",
    "labelsfile = Path('/home/musa/who-opened-the-door/data/april_12.json')"
   ]
  },
  {
   "cell_type": "code",
   "execution_count": 3,
   "metadata": {},
   "outputs": [
    {
     "data": {
      "text/plain": [
       "(44100, 1111320768, 2, 'VORBIS')"
      ]
     },
     "execution_count": 3,
     "metadata": {},
     "output_type": "execute_result"
    }
   ],
   "source": [
    "metadata = torchaudio.info(str(audiofile))\n",
    "sample_rate = metadata.sample_rate\n",
    "n_frames = metadata.num_frames\n",
    "n_channels = metadata.num_channels\n",
    "encoding = metadata.encoding # VORBIS for .ogg files\n",
    "sample_rate, n_frames, n_channels, encoding"
   ]
  },
  {
   "cell_type": "code",
   "execution_count": 4,
   "metadata": {},
   "outputs": [],
   "source": [
    "labels_map = {\n",
    "    'None': 0,\n",
    "    'Alireza': 1,\n",
    "    'Lex': 2,\n",
    "    'Ali': 3,\n",
    "    'Hamed': 4,\n",
    "    'Valafar': 5,\n",
    "    'Andrew': 6,\n",
    "    'Chris': 7,\n",
    "    'Musa': 8,\n",
    "    'Other': 9\n",
    "}"
   ]
  },
  {
   "cell_type": "code",
   "execution_count": 5,
   "metadata": {},
   "outputs": [],
   "source": [
    "class AudioDataset(Dataset):\n",
    "    def __init__(self, audio_file, labelsfile, metadata=None, chunk_size=50_000_000):\n",
    "        audio_file = str(audio_file)\n",
    "        self.audio_file = audio_file\n",
    "        self.chunk_size = chunk_size\n",
    "        \n",
    "        if not metadata:\n",
    "            metadata = torchaudio.info(audio_file)\n",
    "        \n",
    "        if self.chunk_size is None:\n",
    "            self.chunk_size = metadata.num_frames\n",
    "            \n",
    "        self.num_chunks = metadata.num_frames // self.chunk_size\n",
    "\n",
    "        labels = json.load(open(labelsfile))\n",
    "        self.y = torch.zeros(metadata.num_frames, dtype=torch.int64)\n",
    "        for label in labels:\n",
    "            start = label['start']\n",
    "            person = label['label'] # for now, just binary classification so ignore\n",
    "            d = datetime.strptime(start, '%H:%M:%S')\n",
    "            d = timedelta(hours=d.hour, minutes=d.minute, seconds=d.second)\n",
    "            start_time = int(d.total_seconds() * metadata.sample_rate)\n",
    "            end_time = start_time + 5 * metadata.sample_rate # 5 seconds\n",
    "            self.y[start_time:end_time] = float(labels_map[person])\n",
    "\n",
    "    def __len__(self):\n",
    "        return self.num_chunks\n",
    "\n",
    "    def __getitem__(self, idx):\n",
    "        start_frame = idx * self.chunk_size\n",
    "        audio_chunk, _ = torchaudio.load(self.audio_file, frame_offset=start_frame, num_frames=self.chunk_size)\n",
    "        labels = self.y[start_frame:start_frame+self.chunk_size]\n",
    "        return audio_chunk, labels"
   ]
  },
  {
   "cell_type": "code",
   "execution_count": 98,
   "metadata": {},
   "outputs": [
    {
     "data": {
      "text/plain": [
       "800.0"
      ]
     },
     "execution_count": 98,
     "metadata": {},
     "output_type": "execute_result"
    }
   ],
   "source": [
    "chunk_size = 100_000_000\n",
    "audioDataset = AudioDataset(audiofile, labelsfile, metadata, chunk_size)\n",
    "wave, labels = audioDataset[1]\n",
    "# number of mb in the audio file:\n",
    "len(wave.flatten()) * wave.element_size() / 1e6"
   ]
  },
  {
   "cell_type": "code",
   "execution_count": 89,
   "metadata": {},
   "outputs": [
    {
     "data": {
      "text/plain": [
       "[<matplotlib.lines.Line2D at 0x7a28dcfeb4c0>]"
      ]
     },
     "execution_count": 89,
     "metadata": {},
     "output_type": "execute_result"
    },
    {
     "data": {
      "image/png": "[encoded data removed]",
      "text/plain": [
       "<Figure size 640x480 with 3 Axes>"
      ]
     },
     "metadata": {},
     "output_type": "display_data"
    }
   ],
   "source": [
    "fig,axes = plt.subplots(3, sharex=True)\n",
    "start_time = (0*3600 + 21*60 + 50) * sample_rate\n",
    "wave, labels = audioDataset[start_time // chunk_size]\n",
    "start_time = start_time % chunk_size\n",
    "axes[0].plot(wave[0,start_time:start_time+20*sample_rate:10].numpy())\n",
    "axes[1].plot(wave[1,start_time:start_time+20*sample_rate:10].numpy(), color='orange')\n",
    "axes[2].plot(labels[start_time:start_time+20*sample_rate:10].numpy(), color='red')"
   ]
  },
  {
   "cell_type": "code",
   "execution_count": 6,
   "metadata": {},
   "outputs": [
    {
     "ename": "NameError",
     "evalue": "name 'audioDataset' is not defined",
     "output_type": "error",
     "traceback": [
      "\u001b[0;31m---------------------------------------------------------------------------\u001b[0m",
      "\u001b[0;31mNameError\u001b[0m                                 Traceback (most recent call last)",
      "Cell \u001b[0;32mIn[6], line 4\u001b[0m\n\u001b[1;32m      2\u001b[0m X \u001b[38;5;241m=\u001b[39m []\n\u001b[1;32m      3\u001b[0m y \u001b[38;5;241m=\u001b[39m []\n\u001b[0;32m----> 4\u001b[0m \u001b[38;5;28;01mfor\u001b[39;00m i \u001b[38;5;129;01min\u001b[39;00m tqdm(\u001b[38;5;28mrange\u001b[39m(\u001b[38;5;28mlen\u001b[39m(\u001b[43maudioDataset\u001b[49m))):\n\u001b[1;32m      5\u001b[0m     wave, labels \u001b[38;5;241m=\u001b[39m audioDataset[i]\n\u001b[1;32m      6\u001b[0m     wave \u001b[38;5;241m=\u001b[39m wave[:,::\u001b[38;5;241m100\u001b[39m] \u001b[38;5;66;03m# downsample by 100\u001b[39;00m\n",
      "\u001b[0;31mNameError\u001b[0m: name 'audioDataset' is not defined"
     ]
    }
   ],
   "source": [
    "# Save as tensors\n",
    "X = []\n",
    "y = []\n",
    "for i in tqdm(range(len(audioDataset))):\n",
    "    wave, labels = audioDataset[i]\n",
    "    wave = wave[:,::100] # downsample by 100\n",
    "    labels = labels[::100]\n",
    "    X.append(wave)\n",
    "    y.append(labels)\n",
    "X = torch.cat(X, dim=1)\n",
    "y = torch.cat(y)\n",
    "print(X.shape, y.shape)\n",
    "outdir = Path('/home/musa/who-opened-the-door/data/april_12_dec100')\n",
    "outdir.mkdir(exist_ok=True)\n",
    "torch.save(X, outdir / 'X.pt')\n",
    "torch.save(y, outdir / 'y.pt')"
   ]
  },
  {
   "cell_type": "code",
   "execution_count": 71,
   "metadata": {},
   "outputs": [],
   "source": [
    "# import math\n",
    "\n",
    "# class WindowedAudioDataset(Dataset):\n",
    "#     def __init__(self, audio_file, labelsfile, window_size, stride, idxs=None):\n",
    "#         audio_file = str(audio_file)\n",
    "#         self.audio_file = audio_file\n",
    "#         self.window_size = window_size\n",
    "#         self.stride = stride        \n",
    "\n",
    "#         metadata = torchaudio.info(audio_file)\n",
    "        \n",
    "#         self.idxs = idxs\n",
    "#         self.len_ = len(idxs) if idxs else math.ceil(metadata.num_frames / stride)\n",
    "\n",
    "#         labels = json.load(open(labelsfile))\n",
    "#         self.y = torch.zeros(metadata.num_frames, dtype=torch.int64)\n",
    "#         for label in labels:\n",
    "#             start = label['start']\n",
    "#             person = label['label'] # for now, just binary classification so ignore\n",
    "#             d = datetime.strptime(start, '%H:%M:%S')\n",
    "#             d = timedelta(hours=d.hour, minutes=d.minute, seconds=d.second)\n",
    "#             start_time = int(d.total_seconds() * metadata.sample_rate)\n",
    "#             end_time = start_time + 5 * metadata.sample_rate # 5 seconds\n",
    "#             self.y[start_time:end_time] = 1\n",
    "\n",
    "#     def __len__(self):\n",
    "#         return self.len_\n",
    "\n",
    "#     def __getitem__(self, idx):\n",
    "#         if self.idxs:\n",
    "#             idx = self.idxs[idx]\n",
    "#         start_frame = idx * self.stride\n",
    "#         audio_chunk, _ = torchaudio.load(\n",
    "#             self.audio_file,\n",
    "#             frame_offset=start_frame,\n",
    "#             num_frames=self.window_size\n",
    "#         )\n",
    "#         if audio_chunk.shape[1] < self.window_size:\n",
    "#             audio_chunk = torch.cat([audio_chunk, torch.zeros(2, self.window_size - audio_chunk.shape[1])], dim=1)\n",
    "#         labels = self.y[start_frame:start_frame+self.window_size].mode().values\n",
    "#         return audio_chunk, labels"
   ]
  },
  {
   "cell_type": "code",
   "execution_count": 72,
   "metadata": {},
   "outputs": [],
   "source": [
    "# stride = 1*sample_rate\n",
    "# window_size = 5*sample_rate\n",
    "# idxs = list(range(0, math.ceil(metadata.num_frames / stride)))\n",
    "# train_idxs, val_idxs = train_test_split(idxs, test_size=0.2)\n",
    "# train_idxs.__len__()\n",
    "# train_dataset = WindowedAudioDataset(audiofile, labelsfile, window_size, stride, train_idxs)\n",
    "# val_dataset = WindowedAudioDataset(audiofile, labelsfile, window_size, stride, val_idxs)\n",
    "# trainloader = DataLoader(train_dataset, batch_size=64, shuffle=True)\n",
    "# testloader = DataLoader(val_dataset, batch_size=64, shuffle=False)"
   ]
  },
  {
   "cell_type": "code",
   "execution_count": 129,
   "metadata": {},
   "outputs": [],
   "source": [
    "import math\n",
    "\n",
    "class WindowedAudioDataset(Dataset):\n",
    "    def __init__(self, X, y, window_size, stride):\n",
    "        self.window_size = window_size\n",
    "        self.stride = stride\n",
    "\n",
    "        self.X = X\n",
    "        self.y = y\n",
    "        self.X = torch.cat([self.X, torch.zeros(X.shape[0], self.window_size-1)], dim=1)\n",
    "        print(self.X.shape, self.y.shape)\n",
    "\n",
    "    def __len__(self):\n",
    "        return math.ceil(self.X.shape[1] / self.stride)\n",
    "\n",
    "    def __getitem__(self, idx):\n",
    "        return (\n",
    "            self.X[:,(idx*self.stride):(idx*self.stride)+self.window_size],\n",
    "            self.y[(idx*self.stride):(idx*self.stride)+self.window_size]#.mode().values\n",
    "        )"
   ]
  },
  {
   "cell_type": "code",
   "execution_count": 130,
   "metadata": {},
   "outputs": [
    {
     "name": "stdout",
     "output_type": "stream",
     "text": [
      "torch.Size([2, 8800000]) torch.Size([8800000]) torch.Size([2, 2200000]) torch.Size([2200000])\n",
      "torch.Size([2, 8802204]) torch.Size([8800000])\n",
      "torch.Size([2, 2202204]) torch.Size([2200000])\n"
     ]
    }
   ],
   "source": [
    "outdir = Path('/home/musa/who-opened-the-door/data/april_12_dec100')\n",
    "\n",
    "sample_rate = 44100 // 100\n",
    "stride = 1*sample_rate\n",
    "window_size = 5*sample_rate\n",
    "\n",
    "X = torch.load(outdir / 'X.pt')\n",
    "y = torch.load(outdir / 'y.pt')\n",
    "\n",
    "data = torch.cat([X, y.unsqueeze(0)], dim=0).numpy()\n",
    "np.random.shuffle(data)\n",
    "X = torch.tensor(data[:-1])\n",
    "y = torch.tensor(data[-1])\n",
    "\n",
    "test_size = 0.2\n",
    "X_train = X[:,:int((1-test_size)*X.shape[1])]\n",
    "y_train = y[:int((1-test_size)*X.shape[1])]\n",
    "X_test = X[:,int((1-test_size)*X.shape[1]):]\n",
    "y_test = y[int((1-test_size)*X.shape[1]):]\n",
    "\n",
    "print(X_train.shape, y_train.shape, X_test.shape, y_test.shape)\n",
    "\n",
    "train_dataset = WindowedAudioDataset(X_train, y_train, window_size, stride)\n",
    "test_dataset = WindowedAudioDataset(X_test, y_test, window_size, stride)\n",
    "\n",
    "trainloader = DataLoader(train_dataset, batch_size=64, shuffle=True)\n",
    "testloader = DataLoader(test_dataset, batch_size=64, shuffle=False)"
   ]
  },
  {
   "cell_type": "code",
   "execution_count": 41,
   "metadata": {},
   "outputs": [],
   "source": [
    "from torch import nn\n",
    "\n",
    "class AudioNet(nn.Module):\n",
    "    def __init__(self, input_size):\n",
    "        super().__init__()\n",
    "        self.fc1 = nn.Linear(input_size*2, 10)\n",
    "        self.fc2 = nn.Linear(10, 1)\n",
    "    def forward(self, x):\n",
    "        x = x.flatten(1)\n",
    "        x = torch.relu(self.fc1(x))\n",
    "        x = self.fc2(x)\n",
    "        return x"
   ]
  },
  {
   "cell_type": "code",
   "execution_count": 42,
   "metadata": {},
   "outputs": [],
   "source": [
    "dec = 100\n",
    "\n",
    "device = 'cuda'\n",
    "model = AudioNet(window_size // dec).to(device)\n",
    "criterion = torch.nn.BCEWithLogitsLoss()\n",
    "optimizer = torch.optim.Adam(model.parameters(), lr=3e-4)"
   ]
  },
  {
   "cell_type": "code",
   "execution_count": 43,
   "metadata": {},
   "outputs": [
    {
     "name": "stderr",
     "output_type": "stream",
     "text": [
      "  0%|          | 0/10 [00:00<?, ?it/s]\n"
     ]
    },
    {
     "ename": "RuntimeError",
     "evalue": "mat1 and mat2 shapes cannot be multiplied (64x0 and 44x10)",
     "output_type": "error",
     "traceback": [
      "\u001b[0;31m---------------------------------------------------------------------------\u001b[0m",
      "\u001b[0;31mRuntimeError\u001b[0m                              Traceback (most recent call last)",
      "Cell \u001b[0;32mIn[43], line 8\u001b[0m\n\u001b[1;32m      6\u001b[0m X \u001b[38;5;241m=\u001b[39m X[:,:,::dec]\u001b[38;5;241m.\u001b[39mto(device)\n\u001b[1;32m      7\u001b[0m y \u001b[38;5;241m=\u001b[39m y\u001b[38;5;241m.\u001b[39munsqueeze(\u001b[38;5;241m1\u001b[39m)\u001b[38;5;241m.\u001b[39mfloat()\u001b[38;5;241m.\u001b[39mto(device)\n\u001b[0;32m----> 8\u001b[0m logits \u001b[38;5;241m=\u001b[39m \u001b[43mmodel\u001b[49m\u001b[43m(\u001b[49m\u001b[43mX\u001b[49m\u001b[43m)\u001b[49m\n\u001b[1;32m      9\u001b[0m loss \u001b[38;5;241m=\u001b[39m criterion(logits, y)\n\u001b[1;32m     10\u001b[0m optimizer\u001b[38;5;241m.\u001b[39mzero_grad()\n",
      "File \u001b[0;32m~/who-opened-the-door/.venv/lib/python3.10/site-packages/torch/nn/modules/module.py:1532\u001b[0m, in \u001b[0;36mModule._wrapped_call_impl\u001b[0;34m(self, *args, **kwargs)\u001b[0m\n\u001b[1;32m   1530\u001b[0m     \u001b[38;5;28;01mreturn\u001b[39;00m \u001b[38;5;28mself\u001b[39m\u001b[38;5;241m.\u001b[39m_compiled_call_impl(\u001b[38;5;241m*\u001b[39margs, \u001b[38;5;241m*\u001b[39m\u001b[38;5;241m*\u001b[39mkwargs)  \u001b[38;5;66;03m# type: ignore[misc]\u001b[39;00m\n\u001b[1;32m   1531\u001b[0m \u001b[38;5;28;01melse\u001b[39;00m:\n\u001b[0;32m-> 1532\u001b[0m     \u001b[38;5;28;01mreturn\u001b[39;00m \u001b[38;5;28;43mself\u001b[39;49m\u001b[38;5;241;43m.\u001b[39;49m\u001b[43m_call_impl\u001b[49m\u001b[43m(\u001b[49m\u001b[38;5;241;43m*\u001b[39;49m\u001b[43margs\u001b[49m\u001b[43m,\u001b[49m\u001b[43m \u001b[49m\u001b[38;5;241;43m*\u001b[39;49m\u001b[38;5;241;43m*\u001b[39;49m\u001b[43mkwargs\u001b[49m\u001b[43m)\u001b[49m\n",
      "File \u001b[0;32m~/who-opened-the-door/.venv/lib/python3.10/site-packages/torch/nn/modules/module.py:1541\u001b[0m, in \u001b[0;36mModule._call_impl\u001b[0;34m(self, *args, **kwargs)\u001b[0m\n\u001b[1;32m   1536\u001b[0m \u001b[38;5;66;03m# If we don't have any hooks, we want to skip the rest of the logic in\u001b[39;00m\n\u001b[1;32m   1537\u001b[0m \u001b[38;5;66;03m# this function, and just call forward.\u001b[39;00m\n\u001b[1;32m   1538\u001b[0m \u001b[38;5;28;01mif\u001b[39;00m \u001b[38;5;129;01mnot\u001b[39;00m (\u001b[38;5;28mself\u001b[39m\u001b[38;5;241m.\u001b[39m_backward_hooks \u001b[38;5;129;01mor\u001b[39;00m \u001b[38;5;28mself\u001b[39m\u001b[38;5;241m.\u001b[39m_backward_pre_hooks \u001b[38;5;129;01mor\u001b[39;00m \u001b[38;5;28mself\u001b[39m\u001b[38;5;241m.\u001b[39m_forward_hooks \u001b[38;5;129;01mor\u001b[39;00m \u001b[38;5;28mself\u001b[39m\u001b[38;5;241m.\u001b[39m_forward_pre_hooks\n\u001b[1;32m   1539\u001b[0m         \u001b[38;5;129;01mor\u001b[39;00m _global_backward_pre_hooks \u001b[38;5;129;01mor\u001b[39;00m _global_backward_hooks\n\u001b[1;32m   1540\u001b[0m         \u001b[38;5;129;01mor\u001b[39;00m _global_forward_hooks \u001b[38;5;129;01mor\u001b[39;00m _global_forward_pre_hooks):\n\u001b[0;32m-> 1541\u001b[0m     \u001b[38;5;28;01mreturn\u001b[39;00m \u001b[43mforward_call\u001b[49m\u001b[43m(\u001b[49m\u001b[38;5;241;43m*\u001b[39;49m\u001b[43margs\u001b[49m\u001b[43m,\u001b[49m\u001b[43m \u001b[49m\u001b[38;5;241;43m*\u001b[39;49m\u001b[38;5;241;43m*\u001b[39;49m\u001b[43mkwargs\u001b[49m\u001b[43m)\u001b[49m\n\u001b[1;32m   1543\u001b[0m \u001b[38;5;28;01mtry\u001b[39;00m:\n\u001b[1;32m   1544\u001b[0m     result \u001b[38;5;241m=\u001b[39m \u001b[38;5;28;01mNone\u001b[39;00m\n",
      "Cell \u001b[0;32mIn[41], line 10\u001b[0m, in \u001b[0;36mAudioNet.forward\u001b[0;34m(self, x)\u001b[0m\n\u001b[1;32m      8\u001b[0m \u001b[38;5;28;01mdef\u001b[39;00m \u001b[38;5;21mforward\u001b[39m(\u001b[38;5;28mself\u001b[39m, x):\n\u001b[1;32m      9\u001b[0m     x \u001b[38;5;241m=\u001b[39m x\u001b[38;5;241m.\u001b[39mflatten(\u001b[38;5;241m1\u001b[39m)\n\u001b[0;32m---> 10\u001b[0m     x \u001b[38;5;241m=\u001b[39m torch\u001b[38;5;241m.\u001b[39mrelu(\u001b[38;5;28;43mself\u001b[39;49m\u001b[38;5;241;43m.\u001b[39;49m\u001b[43mfc1\u001b[49m\u001b[43m(\u001b[49m\u001b[43mx\u001b[49m\u001b[43m)\u001b[49m)\n\u001b[1;32m     11\u001b[0m     x \u001b[38;5;241m=\u001b[39m \u001b[38;5;28mself\u001b[39m\u001b[38;5;241m.\u001b[39mfc2(x)\n\u001b[1;32m     12\u001b[0m     \u001b[38;5;28;01mreturn\u001b[39;00m x\n",
      "File \u001b[0;32m~/who-opened-the-door/.venv/lib/python3.10/site-packages/torch/nn/modules/module.py:1532\u001b[0m, in \u001b[0;36mModule._wrapped_call_impl\u001b[0;34m(self, *args, **kwargs)\u001b[0m\n\u001b[1;32m   1530\u001b[0m     \u001b[38;5;28;01mreturn\u001b[39;00m \u001b[38;5;28mself\u001b[39m\u001b[38;5;241m.\u001b[39m_compiled_call_impl(\u001b[38;5;241m*\u001b[39margs, \u001b[38;5;241m*\u001b[39m\u001b[38;5;241m*\u001b[39mkwargs)  \u001b[38;5;66;03m# type: ignore[misc]\u001b[39;00m\n\u001b[1;32m   1531\u001b[0m \u001b[38;5;28;01melse\u001b[39;00m:\n\u001b[0;32m-> 1532\u001b[0m     \u001b[38;5;28;01mreturn\u001b[39;00m \u001b[38;5;28;43mself\u001b[39;49m\u001b[38;5;241;43m.\u001b[39;49m\u001b[43m_call_impl\u001b[49m\u001b[43m(\u001b[49m\u001b[38;5;241;43m*\u001b[39;49m\u001b[43margs\u001b[49m\u001b[43m,\u001b[49m\u001b[43m \u001b[49m\u001b[38;5;241;43m*\u001b[39;49m\u001b[38;5;241;43m*\u001b[39;49m\u001b[43mkwargs\u001b[49m\u001b[43m)\u001b[49m\n",
      "File \u001b[0;32m~/who-opened-the-door/.venv/lib/python3.10/site-packages/torch/nn/modules/module.py:1541\u001b[0m, in \u001b[0;36mModule._call_impl\u001b[0;34m(self, *args, **kwargs)\u001b[0m\n\u001b[1;32m   1536\u001b[0m \u001b[38;5;66;03m# If we don't have any hooks, we want to skip the rest of the logic in\u001b[39;00m\n\u001b[1;32m   1537\u001b[0m \u001b[38;5;66;03m# this function, and just call forward.\u001b[39;00m\n\u001b[1;32m   1538\u001b[0m \u001b[38;5;28;01mif\u001b[39;00m \u001b[38;5;129;01mnot\u001b[39;00m (\u001b[38;5;28mself\u001b[39m\u001b[38;5;241m.\u001b[39m_backward_hooks \u001b[38;5;129;01mor\u001b[39;00m \u001b[38;5;28mself\u001b[39m\u001b[38;5;241m.\u001b[39m_backward_pre_hooks \u001b[38;5;129;01mor\u001b[39;00m \u001b[38;5;28mself\u001b[39m\u001b[38;5;241m.\u001b[39m_forward_hooks \u001b[38;5;129;01mor\u001b[39;00m \u001b[38;5;28mself\u001b[39m\u001b[38;5;241m.\u001b[39m_forward_pre_hooks\n\u001b[1;32m   1539\u001b[0m         \u001b[38;5;129;01mor\u001b[39;00m _global_backward_pre_hooks \u001b[38;5;129;01mor\u001b[39;00m _global_backward_hooks\n\u001b[1;32m   1540\u001b[0m         \u001b[38;5;129;01mor\u001b[39;00m _global_forward_hooks \u001b[38;5;129;01mor\u001b[39;00m _global_forward_pre_hooks):\n\u001b[0;32m-> 1541\u001b[0m     \u001b[38;5;28;01mreturn\u001b[39;00m \u001b[43mforward_call\u001b[49m\u001b[43m(\u001b[49m\u001b[38;5;241;43m*\u001b[39;49m\u001b[43margs\u001b[49m\u001b[43m,\u001b[49m\u001b[43m \u001b[49m\u001b[38;5;241;43m*\u001b[39;49m\u001b[38;5;241;43m*\u001b[39;49m\u001b[43mkwargs\u001b[49m\u001b[43m)\u001b[49m\n\u001b[1;32m   1543\u001b[0m \u001b[38;5;28;01mtry\u001b[39;00m:\n\u001b[1;32m   1544\u001b[0m     result \u001b[38;5;241m=\u001b[39m \u001b[38;5;28;01mNone\u001b[39;00m\n",
      "File \u001b[0;32m~/who-opened-the-door/.venv/lib/python3.10/site-packages/torch/nn/modules/linear.py:116\u001b[0m, in \u001b[0;36mLinear.forward\u001b[0;34m(self, input)\u001b[0m\n\u001b[1;32m    115\u001b[0m \u001b[38;5;28;01mdef\u001b[39;00m \u001b[38;5;21mforward\u001b[39m(\u001b[38;5;28mself\u001b[39m, \u001b[38;5;28minput\u001b[39m: Tensor) \u001b[38;5;241m-\u001b[39m\u001b[38;5;241m>\u001b[39m Tensor:\n\u001b[0;32m--> 116\u001b[0m     \u001b[38;5;28;01mreturn\u001b[39;00m \u001b[43mF\u001b[49m\u001b[38;5;241;43m.\u001b[39;49m\u001b[43mlinear\u001b[49m\u001b[43m(\u001b[49m\u001b[38;5;28;43minput\u001b[39;49m\u001b[43m,\u001b[49m\u001b[43m \u001b[49m\u001b[38;5;28;43mself\u001b[39;49m\u001b[38;5;241;43m.\u001b[39;49m\u001b[43mweight\u001b[49m\u001b[43m,\u001b[49m\u001b[43m \u001b[49m\u001b[38;5;28;43mself\u001b[39;49m\u001b[38;5;241;43m.\u001b[39;49m\u001b[43mbias\u001b[49m\u001b[43m)\u001b[49m\n",
      "\u001b[0;31mRuntimeError\u001b[0m: mat1 and mat2 shapes cannot be multiplied (64x0 and 44x10)"
     ]
    }
   ],
   "source": [
    "train_losses = []\n",
    "val_losses = []\n",
    "for epoch in (pbar := tqdm(range(10))):\n",
    "    losses_ = 0\n",
    "    for X,y in trainloader:\n",
    "        X = X[:,:,::dec].to(device)\n",
    "        y = y.unsqueeze(1).float().to(device)\n",
    "        logits = model(X)\n",
    "        loss = criterion(logits, y)\n",
    "        optimizer.zero_grad()\n",
    "        loss.backward()\n",
    "        optimizer.step()\n",
    "\n",
    "        losses_ += loss.item()\n",
    "    train_losses.append(losses_ / len(trainloader))\n",
    "\n",
    "    losses_ = 0\n",
    "    for X,y in testloader:\n",
    "        X = X[:,:,::dec].to(device)\n",
    "        y = y.unsqueeze(1).float().to(device)\n",
    "        logits = model(X)\n",
    "        loss = criterion(logits, y)\n",
    "        losses_ += loss.item()\n",
    "    val_losses.append(losses_ / len(testloader))\n",
    "\n",
    "    pbar.set_description(f'Epoch {epoch} train loss: {train_losses[-1]}, val loss: {val_losses[-1]}')\n",
    "\n",
    "plt.plot(train_losses)\n",
    "plt.plot(val_losses)"
   ]
  },
  {
   "cell_type": "code",
   "execution_count": 83,
   "metadata": {},
   "outputs": [
    {
     "data": {
      "text/plain": [
       "[<matplotlib.lines.Line2D at 0x7a28dcf3e440>]"
      ]
     },
     "execution_count": 83,
     "metadata": {},
     "output_type": "execute_result"
    },
    {
     "data": {
      "image/png": "[encoded data removed]",
      "text/plain": [
       "<Figure size 640x480 with 1 Axes>"
      ]
     },
     "metadata": {},
     "output_type": "display_data"
    }
   ],
   "source": [
    "plt.plot(train_losses)\n",
    "plt.plot(val_losses)"
   ]
  }
 ],
 "metadata": {
  "kernelspec": {
   "display_name": "Python 3",
   "language": "python",
   "name": "python3"
  },
  "language_info": {
   "codemirror_mode": {
    "name": "ipython",
    "version": 3
   },
   "file_extension": ".py",
   "mimetype": "text/x-python",
   "name": "python",
   "nbconvert_exporter": "python",
   "pygments_lexer": "ipython3",
   "version": "3.10.12"
  }
 },
 "nbformat": 4,
 "nbformat_minor": 2
}
