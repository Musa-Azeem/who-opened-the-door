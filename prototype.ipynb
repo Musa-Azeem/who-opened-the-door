{
 "cells": [
  {
   "cell_type": "code",
   "execution_count": 43,
   "metadata": {},
   "outputs": [],
   "source": [
    "import torch\n",
    "import torchaudio\n",
    "from pathlib import Path\n",
    "from torch.utils.data import Dataset, DataLoader\n",
    "import json\n",
    "from datetime import timedelta, datetime\n",
    "from sklearn.model_selection import train_test_split\n",
    "import matplotlib.pyplot as plt\n",
    "from tqdm import tqdm\n",
    "import numpy as np\n",
    "import pandas as pd"
   ]
  },
  {
   "cell_type": "code",
   "execution_count": 44,
   "metadata": {},
   "outputs": [
    {
     "data": {
      "text/plain": [
       "['soundfile']"
      ]
     },
     "execution_count": 44,
     "metadata": {},
     "output_type": "execute_result"
    }
   ],
   "source": [
    "torchaudio.list_audio_backends()"
   ]
  },
  {
   "cell_type": "code",
   "execution_count": 45,
   "metadata": {},
   "outputs": [],
   "source": [
    "audiofile = Path('/home/musa/who-opened-the-door/data/april_15th_7h.ogg')\n",
    "labelsfile = Path('/home/musa/who-opened-the-door/data/april_15.json')\n",
    "# audiofile = Path('/home/musa/who-opened-the-door/data/april_12_7h.ogg')\n",
    "# labelsfile = Path('/home/musa/who-opened-the-door/data/april_12.json')"
   ]
  },
  {
   "cell_type": "code",
   "execution_count": 46,
   "metadata": {},
   "outputs": [
    {
     "data": {
      "text/plain": [
       "(44100, 1111320896, 2, 'VORBIS')"
      ]
     },
     "execution_count": 46,
     "metadata": {},
     "output_type": "execute_result"
    }
   ],
   "source": [
    "metadata = torchaudio.info(str(audiofile))\n",
    "sample_rate = metadata.sample_rate\n",
    "n_frames = metadata.num_frames\n",
    "n_channels = metadata.num_channels\n",
    "encoding = metadata.encoding # VORBIS for .ogg files\n",
    "sample_rate, n_frames, n_channels, encoding"
   ]
  },
  {
   "cell_type": "code",
   "execution_count": 47,
   "metadata": {},
   "outputs": [],
   "source": [
    "labels_map = {\n",
    "    'None': 0,\n",
    "    'Alireza': 1,\n",
    "    'Lex': 2,\n",
    "    'Ali': 3,\n",
    "    'Hamed': 4,\n",
    "    'Valafar': 5,\n",
    "    'Andrew': 6,\n",
    "    'Chris': 7,\n",
    "    'Musa': 8,\n",
    "    'Other': 9\n",
    "}"
   ]
  },
  {
   "cell_type": "code",
   "execution_count": 48,
   "metadata": {},
   "outputs": [],
   "source": [
    "class AudioDataset(Dataset):\n",
    "    def __init__(self, audio_file, labelsfile, metadata=None, chunk_size=50_000_000):\n",
    "        audio_file = str(audio_file)\n",
    "        self.audio_file = audio_file\n",
    "        self.chunk_size = chunk_size\n",
    "        \n",
    "        if not metadata:\n",
    "            metadata = torchaudio.info(audio_file)\n",
    "        self.sample_rate = metadata.sample_rate\n",
    "        \n",
    "        if self.chunk_size is None:\n",
    "            self.chunk_size = metadata.num_frames\n",
    "            \n",
    "        self.num_chunks = metadata.num_frames // self.chunk_size\n",
    "\n",
    "        labels = json.load(open(labelsfile))\n",
    "        self.y = torch.zeros(metadata.num_frames, dtype=torch.float32)\n",
    "        for label in labels:\n",
    "            start = label['start']\n",
    "            person = label['label'] # for now, just binary classification so ignore\n",
    "            d = datetime.strptime(start, '%H:%M:%S')\n",
    "            d = timedelta(hours=d.hour, minutes=d.minute, seconds=d.second)\n",
    "            start_time = int(d.total_seconds() * metadata.sample_rate)\n",
    "            end_time = start_time + 8 * metadata.sample_rate # 5 seconds\n",
    "            self.y[start_time:end_time] = float(labels_map[person])\n",
    "\n",
    "    def __len__(self):\n",
    "        return self.num_chunks\n",
    "\n",
    "    def __getitem__(self, idx):\n",
    "        start_frame = idx * self.chunk_size\n",
    "        audio_chunk, _ = torchaudio.load(self.audio_file, frame_offset=start_frame, num_frames=self.chunk_size)\n",
    "        labels = self.y[start_frame:start_frame+self.chunk_size]\n",
    "        return audio_chunk, labels"
   ]
  },
  {
   "cell_type": "code",
   "execution_count": 49,
   "metadata": {},
   "outputs": [],
   "source": [
    "chunk_size = 100_000_000\n",
    "audioDataset = AudioDataset(audiofile, labelsfile, metadata, chunk_size)\n",
    "wave, labels = audioDataset[1]\n",
    "# number of mb in the audio file:\n",
    "len(wave.flatten()) * wave.element_size() / 1e6\n",
    "last_chunk = -1"
   ]
  },
  {
   "cell_type": "code",
   "execution_count": 50,
   "metadata": {},
   "outputs": [
    {
     "data": {
      "text/plain": [
       "[<matplotlib.lines.Line2D at 0x734dd0df95e0>]"
      ]
     },
     "execution_count": 50,
     "metadata": {},
     "output_type": "execute_result"
    },
    {
     "data": {
      "image/png": "[encoded data removed]",
      "text/plain": [
       "<Figure size 640x480 with 3 Axes>"
      ]
     },
     "metadata": {},
     "output_type": "display_data"
    }
   ],
   "source": [
    "fig,axes = plt.subplots(3, sharex=True)\n",
    "sample_rate = audioDataset.sample_rate\n",
    "h = 3\n",
    "m = 30\n",
    "s = 0\n",
    "start_time = (h*3600 + m*60 + s) * sample_rate\n",
    "chunk = start_time // chunk_size\n",
    "if chunk != last_chunk:\n",
    "    wave, labels = audioDataset[chunk]\n",
    "    last_chunk = chunk\n",
    "start_time = start_time % chunk_size\n",
    "axes[0].plot(wave[0,start_time:start_time+30*sample_rate:100].numpy())\n",
    "axes[1].plot(wave[1,start_time:start_time+30*sample_rate:100].numpy(), color='orange')\n",
    "axes[2].plot(labels[start_time:start_time+30*sample_rate:100].numpy(), color='red')"
   ]
  },
  {
   "cell_type": "code",
   "execution_count": 51,
   "metadata": {},
   "outputs": [
    {
     "name": "stderr",
     "output_type": "stream",
     "text": [
      "100%|██████████| 11/11 [00:22<00:00,  2.07s/it]\n"
     ]
    }
   ],
   "source": [
    "# Save as tensors\n",
    "X = []\n",
    "y = []\n",
    "for i in tqdm(range(len(audioDataset))):\n",
    "    wave, labels = audioDataset[i]\n",
    "    wave = wave[:,::100] # downsample by 100\n",
    "    labels = labels[::100]\n",
    "    X.append(wave)\n",
    "    y.append(labels)\n",
    "X = torch.cat(X, dim=1)\n",
    "y = torch.cat(y)\n",
    "\n",
    "outdir = Path('/home/musa/who-opened-the-door/data/april_15_dec100')\n",
    "outdir.mkdir(exist_ok=True)\n",
    "torch.save(X, outdir / 'X.pt')\n",
    "torch.save(y, outdir / 'y.pt')"
   ]
  },
  {
   "cell_type": "markdown",
   "metadata": {},
   "source": [
    "# Step 2"
   ]
  },
  {
   "cell_type": "code",
   "execution_count": null,
   "metadata": {},
   "outputs": [],
   "source": [
    "# import math\n",
    "\n",
    "# class WindowedAudioDataset(Dataset):\n",
    "#     def __init__(self, audio_file, labelsfile, window_size, stride, idxs=None):\n",
    "#         audio_file = str(audio_file)\n",
    "#         self.audio_file = audio_file\n",
    "#         self.window_size = window_size\n",
    "#         self.stride = stride        \n",
    "\n",
    "#         metadata = torchaudio.info(audio_file)\n",
    "        \n",
    "#         self.idxs = idxs\n",
    "#         self.len_ = len(idxs) if idxs else math.ceil(metadata.num_frames / stride)\n",
    "\n",
    "#         labels = json.load(open(labelsfile))\n",
    "#         self.y = torch.zeros(metadata.num_frames, dtype=torch.int64)\n",
    "#         for label in labels:\n",
    "#             start = label['start']\n",
    "#             person = label['label'] # for now, just binary classification so ignore\n",
    "#             d = datetime.strptime(start, '%H:%M:%S')\n",
    "#             d = timedelta(hours=d.hour, minutes=d.minute, seconds=d.second)\n",
    "#             start_time = int(d.total_seconds() * metadata.sample_rate)\n",
    "#             end_time = start_time + 5 * metadata.sample_rate # 5 seconds\n",
    "#             self.y[start_time:end_time] = 1\n",
    "\n",
    "#     def __len__(self):\n",
    "#         return self.len_\n",
    "\n",
    "#     def __getitem__(self, idx):\n",
    "#         if self.idxs:\n",
    "#             idx = self.idxs[idx]\n",
    "#         start_frame = idx * self.stride\n",
    "#         audio_chunk, _ = torchaudio.load(\n",
    "#             self.audio_file,\n",
    "#             frame_offset=start_frame,\n",
    "#             num_frames=self.window_size\n",
    "#         )\n",
    "#         if audio_chunk.shape[1] < self.window_size:\n",
    "#             audio_chunk = torch.cat([audio_chunk, torch.zeros(2, self.window_size - audio_chunk.shape[1])], dim=1)\n",
    "#         labels = self.y[start_frame:start_frame+self.window_size].mode().values\n",
    "#         return audio_chunk, labels"
   ]
  },
  {
   "cell_type": "code",
   "execution_count": null,
   "metadata": {},
   "outputs": [],
   "source": [
    "# stride = 1*sample_rate\n",
    "# window_size = 5*sample_rate\n",
    "# idxs = list(range(0, math.ceil(metadata.num_frames / stride)))\n",
    "# train_idxs, val_idxs = train_test_split(idxs, test_size=0.2)\n",
    "# train_idxs.__len__()\n",
    "# train_dataset = WindowedAudioDataset(audiofile, labelsfile, window_size, stride, train_idxs)\n",
    "# val_dataset = WindowedAudioDataset(audiofile, labelsfile, window_size, stride, val_idxs)\n",
    "# trainloader = DataLoader(train_dataset, batch_size=64, shuffle=True)\n",
    "# testloader = DataLoader(val_dataset, batch_size=64, shuffle=False)"
   ]
  },
  {
   "cell_type": "code",
   "execution_count": 52,
   "metadata": {},
   "outputs": [],
   "source": [
    "import math\n",
    "\n",
    "class WindowedAudioDataset(Dataset):\n",
    "    def __init__(self, X, y, window_size, stride):\n",
    "        self.window_size = window_size\n",
    "        self.stride = stride\n",
    "\n",
    "        self.X = X\n",
    "        self.y = y\n",
    "        self.y = torch.where(y != 0, torch.ones_like(y), torch.zeros_like(y))\n",
    "        self.len = math.ceil(self.X.shape[1] / self.stride)\n",
    "\n",
    "        self.X = torch.cat([self.X, torch.zeros(X.shape[0], self.window_size-1)], dim=1)\n",
    "\n",
    "    def __len__(self):\n",
    "        return self.len\n",
    "\n",
    "    def __getitem__(self, idx):\n",
    "        if idx >= self.len:\n",
    "            raise IndexError()\n",
    "        return (\n",
    "            self.X[:,(idx*self.stride):(idx*self.stride)+self.window_size],\n",
    "            self.y[(idx*self.stride):(idx*self.stride)+self.window_size].mode().values.unsqueeze(0)\n",
    "        )\n",
    "    \n",
    "class DataSetSplit(Dataset):\n",
    "    def __init__(self, dataset, idxs):\n",
    "        self.dataset = dataset\n",
    "        self.idxs = idxs\n",
    "\n",
    "    def __len__(self):\n",
    "        return len(self.idxs)\n",
    "\n",
    "    def __getitem__(self, idx):\n",
    "        return self.dataset[self.idxs[idx]]"
   ]
  },
  {
   "cell_type": "code",
   "execution_count": 54,
   "metadata": {},
   "outputs": [
    {
     "name": "stdout",
     "output_type": "stream",
     "text": [
      "torch.Size([2, 11000000]) torch.Size([11000000])\n",
      "torch.Size([2, 11000000]) torch.Size([11000000])\n",
      "814815\n",
      "611112 203703\n"
     ]
    }
   ],
   "source": [
    "outdirs = [\n",
    "    Path('/home/musa/who-opened-the-door/data/april_12_dec100'),\n",
    "    Path('/home/musa/who-opened-the-door/data/april_15_dec100')\n",
    "]\n",
    "\n",
    "sample_rate = 44100 // 100\n",
    "stride = sample_rate // 16       \n",
    "window_size = 10*sample_rate # cant be more than 11 seconds since event is 6 seconds long\n",
    "\n",
    "Xload = []\n",
    "yload = []\n",
    "for outdir in outdirs:\n",
    "    Xload.append(torch.load(outdir / 'X.pt'))\n",
    "    yload.append(torch.load(outdir / 'y.pt'))\n",
    "    print(Xload[-1].shape, yload[-1].shape)\n",
    "Xload = torch.cat(Xload, dim=1)\n",
    "yload = torch.cat(yload)\n",
    "\n",
    "dataset = WindowedAudioDataset(Xload, yload, window_size, stride)\n",
    "print(len(dataset))\n",
    "\n",
    "test_size = 0.25\n",
    "idxs = list(range(len(dataset)))\n",
    "# train_idxs, val_idxs = train_test_split(idxs, test_size=0.25)\n",
    "train_idxs = idxs[:-int(len(dataset)*test_size)]\n",
    "val_idxs = idxs[-int(len(dataset)*test_size):]\n",
    "print(len(train_idxs), len(val_idxs))\n",
    "\n",
    "train_dataset = DataSetSplit(dataset, train_idxs)\n",
    "val_dataset = DataSetSplit(dataset, val_idxs)\n",
    "\n",
    "trainloader = DataLoader(train_dataset, batch_size=64, shuffle=True)\n",
    "valloader = DataLoader(val_dataset, batch_size=64, shuffle=False)"
   ]
  },
  {
   "cell_type": "code",
   "execution_count": 64,
   "metadata": {},
   "outputs": [],
   "source": [
    "from torch import nn\n",
    "import torch.nn.functional as F\n",
    "\n",
    "class AudioNetConv(nn.Module):\n",
    "    def __init__(self):\n",
    "        super().__init__()\n",
    "        self.conv1 = nn.Conv1d(2, 4, kernel_size=9, stride=1, padding='same')\n",
    "        self.bn1 = nn.BatchNorm1d(4)\n",
    "        # self.maxpool1 = nn.MaxPool1d(kernel_size=2, stride=2)\n",
    "        # self.conv2 = nn.Conv1d(4, 8, kernel_size=3, stride=1, padding='same')\n",
    "        # self.bn2 = nn.BatchNorm1d(8)\n",
    "        # self.maxpool2 = nn.MaxPool1d(kernel_size=2, stride=2)\n",
    "        # self.conv3 = nn.Conv1d(8, 16, kernel_size=3, stride=1, padding='same')\n",
    "        # self.bn3 = nn.BatchNorm1d(16)\n",
    "        self.gp = nn.AdaptiveAvgPool1d(1)\n",
    "        self.fc1 = nn.Linear(4, 1)\n",
    "    def forward(self, x):\n",
    "        x = F.relu(self.bn1(self.conv1(x)))\n",
    "        # x = self.maxpool1(x)\n",
    "        # x = F.relu(self.bn2(self.conv2(x)))\n",
    "        # x = self.maxpool2(x)\n",
    "        # x = F.relu(self.bn3(self.conv3(x)))\n",
    "        x = self.gp(x)\n",
    "        x = x.squeeze(-1)\n",
    "        x = self.fc1(x)\n",
    "        return x"
   ]
  },
  {
   "cell_type": "code",
   "execution_count": 56,
   "metadata": {},
   "outputs": [],
   "source": [
    "from torch import nn\n",
    "import torch.nn.functional as F\n",
    "\n",
    "class AudioNet(nn.Module):\n",
    "    def __init__(self, input_size):\n",
    "        super().__init__()\n",
    "        self.fc1 = nn.Linear(input_size*2, 8)\n",
    "        self.fc2 = nn.Linear(8, 1)\n",
    "    def forward(self, x):\n",
    "        x = x.flatten(1)\n",
    "        x = torch.relu(self.fc1(x))\n",
    "        x = self.fc2(x)\n",
    "        return x"
   ]
  },
  {
   "cell_type": "code",
   "execution_count": 57,
   "metadata": {},
   "outputs": [],
   "source": [
    "sum_pos = 0\n",
    "sum_neg = 0\n",
    "for X,y in trainloader:\n",
    "    sum_pos += y.sum()\n",
    "    sum_neg += (y == 0).sum()\n",
    "weight = sum_neg / sum_pos"
   ]
  },
  {
   "cell_type": "code",
   "execution_count": 66,
   "metadata": {},
   "outputs": [],
   "source": [
    "device = 'cuda:0'\n",
    "# model = nn.DataParallel(AudioNet(window_size).to(device))\n",
    "model = nn.DataParallel(AudioNetConv().to(device))\n",
    "criterion = torch.nn.BCEWithLogitsLoss(pos_weight=weight)\n",
    "optimizer = torch.optim.Adam(model.parameters(), lr=3e-4)"
   ]
  },
  {
   "cell_type": "code",
   "execution_count": 67,
   "metadata": {},
   "outputs": [
    {
     "name": "stderr",
     "output_type": "stream",
     "text": [
      "  1%|          | 1/100 [01:07<1:50:41, 67.09s/it, loss=0.832, val_loss=0.451, f1=0.342, predsum=5696.0]"
     ]
    },
    {
     "name": "stdout",
     "output_type": "stream",
     "text": [
      "New best f1: 0.3420171736282928\n"
     ]
    },
    {
     "name": "stderr",
     "output_type": "stream",
     "text": [
      "  2%|▏         | 2/100 [02:14<1:50:15, 67.50s/it, loss=0.325, val_loss=0.295, f1=0.456, predsum=3952.0]"
     ]
    },
    {
     "name": "stdout",
     "output_type": "stream",
     "text": [
      "New best f1: 0.45601716403354786\n"
     ]
    },
    {
     "name": "stderr",
     "output_type": "stream",
     "text": [
      "  3%|▎         | 3/100 [03:21<1:48:35, 67.17s/it, loss=0.234, val_loss=0.239, f1=0.459, predsum=3937.0]"
     ]
    },
    {
     "name": "stdout",
     "output_type": "stream",
     "text": [
      "New best f1: 0.4593114241001565\n"
     ]
    },
    {
     "name": "stderr",
     "output_type": "stream",
     "text": [
      "  6%|▌         | 6/100 [06:37<1:42:54, 65.68s/it, loss=0.162, val_loss=0.205, f1=0.46, predsum=3933.0] "
     ]
    },
    {
     "name": "stdout",
     "output_type": "stream",
     "text": [
      "New best f1: 0.4600626468285043\n"
     ]
    },
    {
     "name": "stderr",
     "output_type": "stream",
     "text": [
      "  7%|▋         | 7/100 [07:41<1:41:17, 65.35s/it, loss=0.152, val_loss=0.198, f1=0.487, predsum=3649.0]"
     ]
    },
    {
     "name": "stdout",
     "output_type": "stream",
     "text": [
      "New best f1: 0.48714759535655056\n"
     ]
    },
    {
     "name": "stderr",
     "output_type": "stream",
     "text": [
      " 13%|█▎        | 13/100 [14:23<1:37:10, 67.02s/it, loss=0.119, val_loss=0.18, f1=0.487, predsum=3635.0] "
     ]
    },
    {
     "name": "stdout",
     "output_type": "stream",
     "text": [
      "New best f1: 0.48731808731808735\n"
     ]
    },
    {
     "name": "stderr",
     "output_type": "stream",
     "text": [
      " 15%|█▌        | 15/100 [16:36<1:34:45, 66.89s/it, loss=0.117, val_loss=0.212, f1=0.49, predsum=3516.0] "
     ]
    },
    {
     "name": "stdout",
     "output_type": "stream",
     "text": [
      "New best f1: 0.49030057557024087\n"
     ]
    },
    {
     "name": "stderr",
     "output_type": "stream",
     "text": [
      " 23%|██▎       | 23/100 [25:32<1:26:08, 67.12s/it, loss=0.113, val_loss=0.177, f1=0.5, predsum=3468.0]  "
     ]
    },
    {
     "name": "stdout",
     "output_type": "stream",
     "text": [
      "New best f1: 0.5001076889941848\n"
     ]
    },
    {
     "name": "stderr",
     "output_type": "stream",
     "text": [
      " 29%|██▉       | 29/100 [33:20<1:21:37, 68.98s/it, loss=0.107, val_loss=0.144, f1=0.44, predsum=4169.0] \n"
     ]
    },
    {
     "ename": "KeyboardInterrupt",
     "evalue": "",
     "output_type": "error",
     "traceback": [
      "\u001b[0;31m---------------------------------------------------------------------------\u001b[0m",
      "\u001b[0;31mKeyboardInterrupt\u001b[0m                         Traceback (most recent call last)",
      "Cell \u001b[0;32mIn[67], line 29\u001b[0m\n\u001b[1;32m     27\u001b[0m y_true\u001b[38;5;241m.\u001b[39mappend(y)\n\u001b[1;32m     28\u001b[0m X \u001b[38;5;241m=\u001b[39m X\u001b[38;5;241m.\u001b[39mto(device)\n\u001b[0;32m---> 29\u001b[0m y \u001b[38;5;241m=\u001b[39m \u001b[43my\u001b[49m\u001b[38;5;241;43m.\u001b[39;49m\u001b[43mto\u001b[49m\u001b[43m(\u001b[49m\u001b[43mdevice\u001b[49m\u001b[43m)\u001b[49m\n\u001b[1;32m     30\u001b[0m logits \u001b[38;5;241m=\u001b[39m model(X)\n\u001b[1;32m     31\u001b[0m val_loss \u001b[38;5;241m+\u001b[39m\u001b[38;5;241m=\u001b[39m criterion(logits, y)\u001b[38;5;241m.\u001b[39mitem()\n",
      "\u001b[0;31mKeyboardInterrupt\u001b[0m: "
     ]
    }
   ],
   "source": [
    "from sklearn.metrics import f1_score\n",
    "\n",
    "train_losses = []\n",
    "val_losses = []\n",
    "best_f1 = 0\n",
    "for epoch in (pbar := tqdm(range(100))):\n",
    "    train_loss = 0\n",
    "    model.train()\n",
    "    for X,y in trainloader:\n",
    "        X = X.to(device)\n",
    "        y = y.to(device)\n",
    "        logits = model(X)\n",
    "        loss = criterion(logits, y)\n",
    "        optimizer.zero_grad()\n",
    "        loss.backward()\n",
    "        optimizer.step()\n",
    "    \n",
    "        train_loss += loss.item()\n",
    "    train_losses.append(train_loss / len(trainloader))\n",
    "\n",
    "    model.eval()\n",
    "    with torch.no_grad():\n",
    "        val_loss = 0\n",
    "        y_true = []\n",
    "        y_pred = []\n",
    "        for X,y in valloader:\n",
    "            y_true.append(y)\n",
    "            X = X.to(device)\n",
    "            y = y.to(device)\n",
    "            logits = model(X)\n",
    "            val_loss += criterion(logits, y).item()\n",
    "            y_pred.append(torch.round(F.sigmoid(logits)))\n",
    "        val_losses.append(val_loss / len(valloader))\n",
    "        y_true = torch.cat(y_true).cpu().numpy()\n",
    "        y_pred = torch.cat(y_pred).cpu().numpy()\n",
    "        f1 = f1_score(y_true, y_pred, average='binary', zero_division=0)\n",
    "    \n",
    "    if f1 > best_f1:\n",
    "        best_f1 = f1\n",
    "        print(f'New best f1: {f1}')\n",
    "        torch.save(model.state_dict(), 'model.pt')\n",
    "\n",
    "    pbar.set_postfix({'loss': train_losses[-1], 'val_loss': val_losses[-1], 'f1': f1, 'predsum': y_pred.sum()})"
   ]
  },
  {
   "cell_type": "code",
   "execution_count": 68,
   "metadata": {},
   "outputs": [
    {
     "data": {
      "text/plain": [
       "<matplotlib.legend.Legend at 0x734d8ac00fb0>"
      ]
     },
     "execution_count": 68,
     "metadata": {},
     "output_type": "execute_result"
    },
    {
     "data": {
      "image/png": "[encoded data removed]",
      "text/plain": [
       "<Figure size 640x480 with 1 Axes>"
      ]
     },
     "metadata": {},
     "output_type": "display_data"
    }
   ],
   "source": [
    "plt.plot(train_losses, label='train')\n",
    "plt.plot(val_losses, label='val')\n",
    "plt.legend()"
   ]
  },
  {
   "cell_type": "code",
   "execution_count": 69,
   "metadata": {},
   "outputs": [
    {
     "name": "stdout",
     "output_type": "stream",
     "text": [
      "0.33477508650519033 0.9880851063829788 0.5001076889941848 None\n"
     ]
    },
    {
     "data": {
      "image/png": "[encoded data removed]",
      "text/plain": [
       "<Figure size 640x480 with 1 Axes>"
      ]
     },
     "metadata": {},
     "output_type": "display_data"
    }
   ],
   "source": [
    "# evaluate\n",
    "from sklearn.metrics import confusion_matrix, precision_recall_fscore_support\n",
    "import seaborn as sns\n",
    "\n",
    "model.load_state_dict(torch.load('model.pt'))\n",
    "model.eval()\n",
    "with torch.no_grad():\n",
    "    y_true = []\n",
    "    y_pred = []\n",
    "    val_X = []\n",
    "    for X,y in valloader:\n",
    "        X = X.to(device)\n",
    "        y = y.to(device)\n",
    "        logits = model(X)\n",
    "        y_true.append(y.cpu())\n",
    "        y_pred.append(torch.round(F.sigmoid(logits)).cpu())\n",
    "        val_X.append(X.cpu())\n",
    "    y_true = torch.cat(y_true).numpy()\n",
    "    y_pred = torch.cat(y_pred).numpy()\n",
    "    val_X = torch.cat(val_X).numpy()\n",
    "precision, recall, f1, _ = precision_recall_fscore_support(y_true, y_pred, average='binary')\n",
    "cm = confusion_matrix(y_true, y_pred)\n",
    "\n",
    "print(precision, recall, f1, _)\n",
    "sns.heatmap(cm, annot=True, cbar=False)\n",
    "plt.xlabel('Predicted')\n",
    "plt.ylabel('True');"
   ]
  },
  {
   "cell_type": "code",
   "execution_count": 54,
   "metadata": {},
   "outputs": [
    {
     "data": {
      "text/plain": [
       "array([12430, 12431, 12432, 12433, 12434, 12435, 12436, 12437, 12438,\n",
       "       12439, 12440, 12441, 12442, 12443, 12444, 12445, 12446, 12447,\n",
       "       12448, 12449, 12450, 12451, 12452, 12453, 12454, 12455, 12456,\n",
       "       12457, 12458, 12459, 12460, 12461, 12462, 12463, 12464, 12465,\n",
       "       12466, 12467, 12468, 12469, 12470, 12471, 12472, 12473, 12474,\n",
       "       12475, 12476, 12477, 12478, 12479, 12480, 12481, 12482, 12483,\n",
       "       12484, 12485, 12486, 12487, 12488, 12489, 12490, 12491, 12492,\n",
       "       12493, 12494, 12495, 12496, 12497, 12498, 12499, 12500, 12501,\n",
       "       12502, 12503, 12504, 12505, 12506, 12507, 12508, 12509, 12510,\n",
       "       12511, 12512, 12513, 12514, 12515, 12516, 12517, 12518, 12519,\n",
       "       12520, 12521, 12522, 12523, 12524, 12525, 12526, 12527, 41797,\n",
       "       41798, 41799, 41800, 41801, 41802, 41803, 41804, 41805, 41806,\n",
       "       41807, 41808, 41809, 41810, 41811, 41812, 41813, 41814, 41815,\n",
       "       41816, 41817, 41818, 41819, 41820, 41821, 41822, 41823, 41824,\n",
       "       41825, 41826, 41827, 41828, 41829, 41830, 41831, 41832, 41833,\n",
       "       41834, 41835, 41836, 41837, 41838, 41839, 41840, 41841, 41842,\n",
       "       41843, 41844, 41845, 41846, 41847, 41848, 41849, 41850, 41851,\n",
       "       41852, 41853, 41854, 41855, 41856, 41857, 41858, 41859, 41860,\n",
       "       41861, 41862, 41863, 41864, 41865, 41866, 41867, 41868, 41869,\n",
       "       41870, 41871, 41872, 41873, 41874, 41875, 41876, 41877, 41878,\n",
       "       41879, 41880, 41881, 41882, 41883, 41884, 41885, 41886, 41887,\n",
       "       41888, 41889, 41890, 41891, 41892, 41893, 41894, 52986, 52987,\n",
       "       52988, 52989, 52990, 52991, 52992, 52993, 52994, 52995, 52996,\n",
       "       52997, 52998, 52999, 53000, 53001, 53002, 53003, 53004, 53005,\n",
       "       53006, 53007, 53008, 53009, 53010, 53011, 53012, 53013, 53014,\n",
       "       53015, 53016, 53017, 53018, 53019, 53020, 53021, 53022, 53023,\n",
       "       53024, 53025, 53026, 53027, 53028, 53029, 53030, 53031, 53032,\n",
       "       53033, 53034, 53035, 53036, 53037, 53038, 53039, 53040, 53041,\n",
       "       53042, 53043, 53044, 53045, 53046, 53047, 53048, 53049, 53050,\n",
       "       53051, 53052, 53053, 53054, 53055, 53056, 53057, 53058, 53059,\n",
       "       53060, 53061, 53062, 53063, 53064, 53065, 53066, 53067, 53068,\n",
       "       53069, 53070, 53071, 53072, 53073, 53074, 53075, 53076, 53077,\n",
       "       53078, 53079, 53080, 53081, 53082, 53083])"
      ]
     },
     "execution_count": 54,
     "metadata": {},
     "output_type": "execute_result"
    }
   ],
   "source": [
    "np.where(y_true == 1)[0]"
   ]
  },
  {
   "cell_type": "code",
   "execution_count": 56,
   "metadata": {},
   "outputs": [],
   "source": [
    "import plotly.express as px\n",
    "i = 12400\n",
    "dur = 100\n",
    "df = pd.DataFrame(dict(\n",
    "    channelA=val_X[i:i+dur,0,window_size//2-stride//2:window_size//2+stride//2+1].flatten(),\n",
    "    channelB=val_X[i:i+dur,1,window_size//2-stride//2:window_size//2+stride//2+1].flatten(),\n",
    "    label=np.pad(y_true[i:i+dur], ((0,0),(0, stride-1)), 'edge').flatten(),\n",
    "    pred=np.pad(y_pred[i:i+dur], ((0,0),(0, stride-1)), 'edge').flatten(),\n",
    "))\n",
    "fig = px.line(df[::10], y=['channelA', 'channelB', 'label', 'pred'])\n",
    "fig.show(renderer='browser')"
   ]
  }
 ],
 "metadata": {
  "kernelspec": {
   "display_name": "Python 3",
   "language": "python",
   "name": "python3"
  },
  "language_info": {
   "codemirror_mode": {
    "name": "ipython",
    "version": 3
   },
   "file_extension": ".py",
   "mimetype": "text/x-python",
   "name": "python",
   "nbconvert_exporter": "python",
   "pygments_lexer": "ipython3",
   "version": "3.12.3"
  }
 },
 "nbformat": 4,
 "nbformat_minor": 2
}
