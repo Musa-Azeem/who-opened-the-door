{
 "cells": [
  {
   "cell_type": "code",
   "execution_count": 1,
   "metadata": {},
   "outputs": [],
   "source": [
    "import torch\n",
    "import torchaudio\n",
    "from pathlib import Path\n",
    "from torch.utils.data import Dataset, DataLoader\n",
    "import json\n",
    "from datetime import timedelta, datetime\n",
    "from sklearn.model_selection import train_test_split\n",
    "import matplotlib.pyplot as plt\n",
    "from tqdm import tqdm\n",
    "import numpy as np\n",
    "import pandas as pd"
   ]
  },
  {
   "cell_type": "code",
   "execution_count": 2,
   "metadata": {},
   "outputs": [],
   "source": [
    "audiofile = Path('/home/musa/who-opened-the-door/data/april_15_7h.ogg')\n",
    "labelsfile = Path('/home/musa/who-opened-the-door/data/april_15.json')"
   ]
  },
  {
   "cell_type": "code",
   "execution_count": 3,
   "metadata": {},
   "outputs": [
    {
     "ename": "RuntimeError",
     "evalue": "Error opening '/home/musa/who-opened-the-door/data/april_15_7h.ogg': System error.",
     "output_type": "error",
     "traceback": [
      "\u001b[0;31m---------------------------------------------------------------------------\u001b[0m",
      "\u001b[0;31mRuntimeError\u001b[0m                              Traceback (most recent call last)",
      "Cell \u001b[0;32mIn[3], line 1\u001b[0m\n\u001b[0;32m----> 1\u001b[0m metadata \u001b[38;5;241m=\u001b[39m \u001b[43mtorchaudio\u001b[49m\u001b[38;5;241;43m.\u001b[39;49m\u001b[43minfo\u001b[49m\u001b[43m(\u001b[49m\u001b[38;5;28;43mstr\u001b[39;49m\u001b[43m(\u001b[49m\u001b[43maudiofile\u001b[49m\u001b[43m)\u001b[49m\u001b[43m)\u001b[49m\n\u001b[1;32m      2\u001b[0m sample_rate \u001b[38;5;241m=\u001b[39m metadata\u001b[38;5;241m.\u001b[39msample_rate\n\u001b[1;32m      3\u001b[0m n_frames \u001b[38;5;241m=\u001b[39m metadata\u001b[38;5;241m.\u001b[39mnum_frames\n",
      "File \u001b[0;32m~/who-opened-the-door/env/lib/python3.12/site-packages/torchaudio/_backend/utils.py:99\u001b[0m, in \u001b[0;36mget_info_func.<locals>.info\u001b[0;34m(uri, format, buffer_size, backend)\u001b[0m\n\u001b[1;32m     62\u001b[0m \u001b[38;5;250m\u001b[39m\u001b[38;5;124;03m\"\"\"Get signal information of an audio file.\u001b[39;00m\n\u001b[1;32m     63\u001b[0m \n\u001b[1;32m     64\u001b[0m \u001b[38;5;124;03mNote:\u001b[39;00m\n\u001b[0;32m   (...)\u001b[0m\n\u001b[1;32m     96\u001b[0m \u001b[38;5;124;03m    AudioMetaData\u001b[39;00m\n\u001b[1;32m     97\u001b[0m \u001b[38;5;124;03m\"\"\"\u001b[39;00m\n\u001b[1;32m     98\u001b[0m backend \u001b[38;5;241m=\u001b[39m dispatcher(uri, \u001b[38;5;28mformat\u001b[39m, backend)\n\u001b[0;32m---> 99\u001b[0m \u001b[38;5;28;01mreturn\u001b[39;00m \u001b[43mbackend\u001b[49m\u001b[38;5;241;43m.\u001b[39;49m\u001b[43minfo\u001b[49m\u001b[43m(\u001b[49m\u001b[43muri\u001b[49m\u001b[43m,\u001b[49m\u001b[43m \u001b[49m\u001b[38;5;28;43mformat\u001b[39;49m\u001b[43m,\u001b[49m\u001b[43m \u001b[49m\u001b[43mbuffer_size\u001b[49m\u001b[43m)\u001b[49m\n",
      "File \u001b[0;32m~/who-opened-the-door/env/lib/python3.12/site-packages/torchaudio/_backend/soundfile.py:15\u001b[0m, in \u001b[0;36mSoundfileBackend.info\u001b[0;34m(uri, format, buffer_size)\u001b[0m\n\u001b[1;32m     13\u001b[0m \u001b[38;5;129m@staticmethod\u001b[39m\n\u001b[1;32m     14\u001b[0m \u001b[38;5;28;01mdef\u001b[39;00m \u001b[38;5;21minfo\u001b[39m(uri: Union[BinaryIO, \u001b[38;5;28mstr\u001b[39m, os\u001b[38;5;241m.\u001b[39mPathLike], \u001b[38;5;28mformat\u001b[39m: Optional[\u001b[38;5;28mstr\u001b[39m], buffer_size: \u001b[38;5;28mint\u001b[39m \u001b[38;5;241m=\u001b[39m \u001b[38;5;241m4096\u001b[39m) \u001b[38;5;241m-\u001b[39m\u001b[38;5;241m>\u001b[39m AudioMetaData:\n\u001b[0;32m---> 15\u001b[0m     \u001b[38;5;28;01mreturn\u001b[39;00m \u001b[43msoundfile_backend\u001b[49m\u001b[38;5;241;43m.\u001b[39;49m\u001b[43minfo\u001b[49m\u001b[43m(\u001b[49m\u001b[43muri\u001b[49m\u001b[43m,\u001b[49m\u001b[43m \u001b[49m\u001b[38;5;28;43mformat\u001b[39;49m\u001b[43m)\u001b[49m\n",
      "File \u001b[0;32m~/who-opened-the-door/env/lib/python3.12/site-packages/torchaudio/_backend/soundfile_backend.py:119\u001b[0m, in \u001b[0;36minfo\u001b[0;34m(filepath, format)\u001b[0m\n\u001b[1;32m    100\u001b[0m \u001b[38;5;129m@_requires_soundfile\u001b[39m\n\u001b[1;32m    101\u001b[0m \u001b[38;5;28;01mdef\u001b[39;00m \u001b[38;5;21minfo\u001b[39m(filepath: \u001b[38;5;28mstr\u001b[39m, \u001b[38;5;28mformat\u001b[39m: Optional[\u001b[38;5;28mstr\u001b[39m] \u001b[38;5;241m=\u001b[39m \u001b[38;5;28;01mNone\u001b[39;00m) \u001b[38;5;241m-\u001b[39m\u001b[38;5;241m>\u001b[39m AudioMetaData:\n\u001b[1;32m    102\u001b[0m \u001b[38;5;250m    \u001b[39m\u001b[38;5;124;03m\"\"\"Get signal information of an audio file.\u001b[39;00m\n\u001b[1;32m    103\u001b[0m \n\u001b[1;32m    104\u001b[0m \u001b[38;5;124;03m    Note:\u001b[39;00m\n\u001b[0;32m   (...)\u001b[0m\n\u001b[1;32m    117\u001b[0m \n\u001b[1;32m    118\u001b[0m \u001b[38;5;124;03m    \"\"\"\u001b[39;00m\n\u001b[0;32m--> 119\u001b[0m     sinfo \u001b[38;5;241m=\u001b[39m \u001b[43msoundfile\u001b[49m\u001b[38;5;241;43m.\u001b[39;49m\u001b[43minfo\u001b[49m\u001b[43m(\u001b[49m\u001b[43mfilepath\u001b[49m\u001b[43m)\u001b[49m\n\u001b[1;32m    120\u001b[0m     \u001b[38;5;28;01mreturn\u001b[39;00m AudioMetaData(\n\u001b[1;32m    121\u001b[0m         sinfo\u001b[38;5;241m.\u001b[39msamplerate,\n\u001b[1;32m    122\u001b[0m         sinfo\u001b[38;5;241m.\u001b[39mframes,\n\u001b[0;32m   (...)\u001b[0m\n\u001b[1;32m    125\u001b[0m         encoding\u001b[38;5;241m=\u001b[39m_get_encoding(sinfo\u001b[38;5;241m.\u001b[39mformat, sinfo\u001b[38;5;241m.\u001b[39msubtype),\n\u001b[1;32m    126\u001b[0m     )\n",
      "File \u001b[0;32m~/who-opened-the-door/env/lib/python3.12/site-packages/soundfile.py:552\u001b[0m, in \u001b[0;36minfo\u001b[0;34m(file, verbose)\u001b[0m\n\u001b[1;32m    544\u001b[0m \u001b[38;5;28;01mdef\u001b[39;00m \u001b[38;5;21minfo\u001b[39m(file, verbose\u001b[38;5;241m=\u001b[39m\u001b[38;5;28;01mFalse\u001b[39;00m):\n\u001b[1;32m    545\u001b[0m \u001b[38;5;250m    \u001b[39m\u001b[38;5;124;03m\"\"\"Returns an object with information about a SoundFile.\u001b[39;00m\n\u001b[1;32m    546\u001b[0m \n\u001b[1;32m    547\u001b[0m \u001b[38;5;124;03m    Parameters\u001b[39;00m\n\u001b[0;32m   (...)\u001b[0m\n\u001b[1;32m    550\u001b[0m \u001b[38;5;124;03m        Whether to print additional information.\u001b[39;00m\n\u001b[1;32m    551\u001b[0m \u001b[38;5;124;03m    \"\"\"\u001b[39;00m\n\u001b[0;32m--> 552\u001b[0m     \u001b[38;5;28;01mreturn\u001b[39;00m \u001b[43m_SoundFileInfo\u001b[49m\u001b[43m(\u001b[49m\u001b[43mfile\u001b[49m\u001b[43m,\u001b[49m\u001b[43m \u001b[49m\u001b[43mverbose\u001b[49m\u001b[43m)\u001b[49m\n",
      "File \u001b[0;32m~/who-opened-the-door/env/lib/python3.12/site-packages/soundfile.py:499\u001b[0m, in \u001b[0;36m_SoundFileInfo.__init__\u001b[0;34m(self, file, verbose)\u001b[0m\n\u001b[1;32m    497\u001b[0m \u001b[38;5;28;01mdef\u001b[39;00m \u001b[38;5;21m__init__\u001b[39m(\u001b[38;5;28mself\u001b[39m, file, verbose):\n\u001b[1;32m    498\u001b[0m     \u001b[38;5;28mself\u001b[39m\u001b[38;5;241m.\u001b[39mverbose \u001b[38;5;241m=\u001b[39m verbose\n\u001b[0;32m--> 499\u001b[0m     \u001b[38;5;28;01mwith\u001b[39;00m \u001b[43mSoundFile\u001b[49m\u001b[43m(\u001b[49m\u001b[43mfile\u001b[49m\u001b[43m)\u001b[49m \u001b[38;5;28;01mas\u001b[39;00m f:\n\u001b[1;32m    500\u001b[0m         \u001b[38;5;28mself\u001b[39m\u001b[38;5;241m.\u001b[39mname \u001b[38;5;241m=\u001b[39m f\u001b[38;5;241m.\u001b[39mname\n\u001b[1;32m    501\u001b[0m         \u001b[38;5;28mself\u001b[39m\u001b[38;5;241m.\u001b[39msamplerate \u001b[38;5;241m=\u001b[39m f\u001b[38;5;241m.\u001b[39msamplerate\n",
      "File \u001b[0;32m~/who-opened-the-door/env/lib/python3.12/site-packages/soundfile.py:740\u001b[0m, in \u001b[0;36mSoundFile.__init__\u001b[0;34m(self, file, mode, samplerate, channels, subtype, endian, format, closefd)\u001b[0m\n\u001b[1;32m    737\u001b[0m \u001b[38;5;28mself\u001b[39m\u001b[38;5;241m.\u001b[39m_mode \u001b[38;5;241m=\u001b[39m mode\n\u001b[1;32m    738\u001b[0m \u001b[38;5;28mself\u001b[39m\u001b[38;5;241m.\u001b[39m_info \u001b[38;5;241m=\u001b[39m _create_info_struct(file, mode, samplerate, channels,\n\u001b[1;32m    739\u001b[0m                                  \u001b[38;5;28mformat\u001b[39m, subtype, endian)\n\u001b[0;32m--> 740\u001b[0m \u001b[38;5;28mself\u001b[39m\u001b[38;5;241m.\u001b[39m_file \u001b[38;5;241m=\u001b[39m \u001b[38;5;28;43mself\u001b[39;49m\u001b[38;5;241;43m.\u001b[39;49m\u001b[43m_open\u001b[49m\u001b[43m(\u001b[49m\u001b[43mfile\u001b[49m\u001b[43m,\u001b[49m\u001b[43m \u001b[49m\u001b[43mmode_int\u001b[49m\u001b[43m,\u001b[49m\u001b[43m \u001b[49m\u001b[43mclosefd\u001b[49m\u001b[43m)\u001b[49m\n\u001b[1;32m    741\u001b[0m \u001b[38;5;28;01mif\u001b[39;00m \u001b[38;5;28mset\u001b[39m(mode)\u001b[38;5;241m.\u001b[39missuperset(\u001b[38;5;124m'\u001b[39m\u001b[38;5;124mr+\u001b[39m\u001b[38;5;124m'\u001b[39m) \u001b[38;5;129;01mand\u001b[39;00m \u001b[38;5;28mself\u001b[39m\u001b[38;5;241m.\u001b[39mseekable():\n\u001b[1;32m    742\u001b[0m     \u001b[38;5;66;03m# Move write position to 0 (like in Python file objects)\u001b[39;00m\n\u001b[1;32m    743\u001b[0m     \u001b[38;5;28mself\u001b[39m\u001b[38;5;241m.\u001b[39mseek(\u001b[38;5;241m0\u001b[39m)\n",
      "File \u001b[0;32m~/who-opened-the-door/env/lib/python3.12/site-packages/soundfile.py:1264\u001b[0m, in \u001b[0;36mSoundFile._open\u001b[0;34m(self, file, mode_int, closefd)\u001b[0m\n\u001b[1;32m   1262\u001b[0m \u001b[38;5;28;01melse\u001b[39;00m:\n\u001b[1;32m   1263\u001b[0m     \u001b[38;5;28;01mraise\u001b[39;00m \u001b[38;5;167;01mTypeError\u001b[39;00m(\u001b[38;5;124m\"\u001b[39m\u001b[38;5;124mInvalid file: \u001b[39m\u001b[38;5;132;01m{0!r}\u001b[39;00m\u001b[38;5;124m\"\u001b[39m\u001b[38;5;241m.\u001b[39mformat(\u001b[38;5;28mself\u001b[39m\u001b[38;5;241m.\u001b[39mname))\n\u001b[0;32m-> 1264\u001b[0m \u001b[43m_error_check\u001b[49m\u001b[43m(\u001b[49m\u001b[43m_snd\u001b[49m\u001b[38;5;241;43m.\u001b[39;49m\u001b[43msf_error\u001b[49m\u001b[43m(\u001b[49m\u001b[43mfile_ptr\u001b[49m\u001b[43m)\u001b[49m\u001b[43m,\u001b[49m\n\u001b[1;32m   1265\u001b[0m \u001b[43m             \u001b[49m\u001b[38;5;124;43m\"\u001b[39;49m\u001b[38;5;124;43mError opening \u001b[39;49m\u001b[38;5;132;43;01m{0!r}\u001b[39;49;00m\u001b[38;5;124;43m: \u001b[39;49m\u001b[38;5;124;43m\"\u001b[39;49m\u001b[38;5;241;43m.\u001b[39;49m\u001b[43mformat\u001b[49m\u001b[43m(\u001b[49m\u001b[38;5;28;43mself\u001b[39;49m\u001b[38;5;241;43m.\u001b[39;49m\u001b[43mname\u001b[49m\u001b[43m)\u001b[49m\u001b[43m)\u001b[49m\n\u001b[1;32m   1266\u001b[0m \u001b[38;5;28;01mif\u001b[39;00m mode_int \u001b[38;5;241m==\u001b[39m _snd\u001b[38;5;241m.\u001b[39mSFM_WRITE:\n\u001b[1;32m   1267\u001b[0m     \u001b[38;5;66;03m# Due to a bug in libsndfile version <= 1.0.25, frames != 0\u001b[39;00m\n\u001b[1;32m   1268\u001b[0m     \u001b[38;5;66;03m# when opening a named pipe in SFM_WRITE mode.\u001b[39;00m\n\u001b[1;32m   1269\u001b[0m     \u001b[38;5;66;03m# See http://github.com/erikd/libsndfile/issues/77.\u001b[39;00m\n\u001b[1;32m   1270\u001b[0m     \u001b[38;5;28mself\u001b[39m\u001b[38;5;241m.\u001b[39m_info\u001b[38;5;241m.\u001b[39mframes \u001b[38;5;241m=\u001b[39m \u001b[38;5;241m0\u001b[39m\n",
      "File \u001b[0;32m~/who-opened-the-door/env/lib/python3.12/site-packages/soundfile.py:1455\u001b[0m, in \u001b[0;36m_error_check\u001b[0;34m(err, prefix)\u001b[0m\n\u001b[1;32m   1453\u001b[0m \u001b[38;5;28;01mif\u001b[39;00m err \u001b[38;5;241m!=\u001b[39m \u001b[38;5;241m0\u001b[39m:\n\u001b[1;32m   1454\u001b[0m     err_str \u001b[38;5;241m=\u001b[39m _snd\u001b[38;5;241m.\u001b[39msf_error_number(err)\n\u001b[0;32m-> 1455\u001b[0m     \u001b[38;5;28;01mraise\u001b[39;00m \u001b[38;5;167;01mRuntimeError\u001b[39;00m(prefix \u001b[38;5;241m+\u001b[39m _ffi\u001b[38;5;241m.\u001b[39mstring(err_str)\u001b[38;5;241m.\u001b[39mdecode(\u001b[38;5;124m'\u001b[39m\u001b[38;5;124mutf-8\u001b[39m\u001b[38;5;124m'\u001b[39m, \u001b[38;5;124m'\u001b[39m\u001b[38;5;124mreplace\u001b[39m\u001b[38;5;124m'\u001b[39m))\n",
      "\u001b[0;31mRuntimeError\u001b[0m: Error opening '/home/musa/who-opened-the-door/data/april_15_7h.ogg': System error."
     ]
    }
   ],
   "source": [
    "metadata = torchaudio.info(str(audiofile))\n",
    "sample_rate = metadata.sample_rate\n",
    "n_frames = metadata.num_frames\n",
    "n_channels = metadata.num_channels\n",
    "encoding = metadata.encoding # VORBIS for .ogg files\n",
    "sample_rate, n_frames, n_channels, encoding"
   ]
  },
  {
   "cell_type": "code",
   "execution_count": 5,
   "metadata": {},
   "outputs": [],
   "source": [
    "labels_map = {\n",
    "    'None': 0,\n",
    "    'Alireza': 1,\n",
    "    'Lex': 2,\n",
    "    'Ali': 3,\n",
    "    'Hamed': 4,\n",
    "    'Valafar': 5,\n",
    "    'Andrew': 6,\n",
    "    'Chris': 7,\n",
    "    'Musa': 8,\n",
    "    'Other': 9\n",
    "}"
   ]
  },
  {
   "cell_type": "code",
   "execution_count": 6,
   "metadata": {},
   "outputs": [],
   "source": [
    "class AudioDataset(Dataset):\n",
    "    def __init__(self, audio_file, labelsfile, metadata=None, chunk_size=50_000_000):\n",
    "        audio_file = str(audio_file)\n",
    "        self.audio_file = audio_file\n",
    "        self.chunk_size = chunk_size\n",
    "        \n",
    "        if not metadata:\n",
    "            metadata = torchaudio.info(audio_file)\n",
    "        self.sample_rate = metadata.sample_rate\n",
    "        \n",
    "        if self.chunk_size is None:\n",
    "            self.chunk_size = metadata.num_frames\n",
    "            \n",
    "        self.num_chunks = metadata.num_frames // self.chunk_size\n",
    "\n",
    "        labels = json.load(open(labelsfile))\n",
    "        self.y = torch.zeros(metadata.num_frames, dtype=torch.float32)\n",
    "        for label in labels:\n",
    "            start = label['start']\n",
    "            person = label['label'] # for now, just binary classification so ignore\n",
    "            d = datetime.strptime(start, '%H:%M:%S')\n",
    "            d = timedelta(hours=d.hour, minutes=d.minute, seconds=d.second)\n",
    "            start_time = int(d.total_seconds() * metadata.sample_rate)\n",
    "            end_time = start_time + 6 * metadata.sample_rate # 5 seconds\n",
    "            self.y[start_time:end_time] = float(labels_map[person])\n",
    "\n",
    "    def __len__(self):\n",
    "        return self.num_chunks\n",
    "\n",
    "    def __getitem__(self, idx):\n",
    "        start_frame = idx * self.chunk_size\n",
    "        audio_chunk, _ = torchaudio.load(self.audio_file, frame_offset=start_frame, num_frames=self.chunk_size)\n",
    "        labels = self.y[start_frame:start_frame+self.chunk_size]\n",
    "        return audio_chunk, labels"
   ]
  },
  {
   "cell_type": "code",
   "execution_count": 395,
   "metadata": {},
   "outputs": [],
   "source": [
    "chunk_size = 100_000_000\n",
    "audioDataset = AudioDataset(audiofile, labelsfile, metadata, chunk_size)\n",
    "wave, labels = audioDataset[1]\n",
    "# number of mb in the audio file:\n",
    "len(wave.flatten()) * wave.element_size() / 1e6\n",
    "last_chunk = -1"
   ]
  },
  {
   "cell_type": "code",
   "execution_count": 396,
   "metadata": {},
   "outputs": [
    {
     "data": {
      "text/plain": [
       "[<matplotlib.lines.Line2D at 0x77295429e5c0>]"
      ]
     },
     "execution_count": 396,
     "metadata": {},
     "output_type": "execute_result"
    },
    {
     "data": {
      "image/png": "[encoded data removed]",
      "text/plain": [
       "<Figure size 640x480 with 3 Axes>"
      ]
     },
     "metadata": {},
     "output_type": "display_data"
    }
   ],
   "source": [
    "fig,axes = plt.subplots(3, sharex=True)\n",
    "sample_rate = audioDataset.sample_rate\n",
    "start_time = (1*3600 + 5*60 + 25) * sample_rate\n",
    "chunk = start_time // chunk_size\n",
    "if chunk != last_chunk:\n",
    "    wave, labels = audioDataset[chunk]\n",
    "    last_chunk = chunk\n",
    "start_time = start_time % chunk_size\n",
    "axes[0].plot(wave[0,start_time:start_time+30*sample_rate:100].numpy())\n",
    "axes[1].plot(wave[1,start_time:start_time+30*sample_rate:100].numpy(), color='orange')\n",
    "axes[2].plot(labels[start_time:start_time+30*sample_rate:100].numpy(), color='red')"
   ]
  },
  {
   "cell_type": "code",
   "execution_count": null,
   "metadata": {},
   "outputs": [],
   "source": [
    "# Save as tensors\n",
    "X = []\n",
    "y = []\n",
    "for i in tqdm(range(len(audioDataset))):\n",
    "    wave, labels = audioDataset[i]\n",
    "    wave = wave[:,::100] # downsample by 100\n",
    "    labels = labels[::100]\n",
    "    X.append(wave)\n",
    "    y.append(labels)\n",
    "X = torch.cat(X, dim=1)\n",
    "y = torch.cat(y)\n",
    "\n",
    "outdir = Path('/home/musa/who-opened-the-door/data/april_12_dec100')\n",
    "outdir.mkdir(exist_ok=True)\n",
    "torch.save(X, outdir / 'X.pt')\n",
    "torch.save(y, outdir / 'y.pt')"
   ]
  },
  {
   "cell_type": "markdown",
   "metadata": {},
   "source": [
    "# Step 2"
   ]
  },
  {
   "cell_type": "code",
   "execution_count": null,
   "metadata": {},
   "outputs": [],
   "source": [
    "# import math\n",
    "\n",
    "# class WindowedAudioDataset(Dataset):\n",
    "#     def __init__(self, audio_file, labelsfile, window_size, stride, idxs=None):\n",
    "#         audio_file = str(audio_file)\n",
    "#         self.audio_file = audio_file\n",
    "#         self.window_size = window_size\n",
    "#         self.stride = stride        \n",
    "\n",
    "#         metadata = torchaudio.info(audio_file)\n",
    "        \n",
    "#         self.idxs = idxs\n",
    "#         self.len_ = len(idxs) if idxs else math.ceil(metadata.num_frames / stride)\n",
    "\n",
    "#         labels = json.load(open(labelsfile))\n",
    "#         self.y = torch.zeros(metadata.num_frames, dtype=torch.int64)\n",
    "#         for label in labels:\n",
    "#             start = label['start']\n",
    "#             person = label['label'] # for now, just binary classification so ignore\n",
    "#             d = datetime.strptime(start, '%H:%M:%S')\n",
    "#             d = timedelta(hours=d.hour, minutes=d.minute, seconds=d.second)\n",
    "#             start_time = int(d.total_seconds() * metadata.sample_rate)\n",
    "#             end_time = start_time + 5 * metadata.sample_rate # 5 seconds\n",
    "#             self.y[start_time:end_time] = 1\n",
    "\n",
    "#     def __len__(self):\n",
    "#         return self.len_\n",
    "\n",
    "#     def __getitem__(self, idx):\n",
    "#         if self.idxs:\n",
    "#             idx = self.idxs[idx]\n",
    "#         start_frame = idx * self.stride\n",
    "#         audio_chunk, _ = torchaudio.load(\n",
    "#             self.audio_file,\n",
    "#             frame_offset=start_frame,\n",
    "#             num_frames=self.window_size\n",
    "#         )\n",
    "#         if audio_chunk.shape[1] < self.window_size:\n",
    "#             audio_chunk = torch.cat([audio_chunk, torch.zeros(2, self.window_size - audio_chunk.shape[1])], dim=1)\n",
    "#         labels = self.y[start_frame:start_frame+self.window_size].mode().values\n",
    "#         return audio_chunk, labels"
   ]
  },
  {
   "cell_type": "code",
   "execution_count": null,
   "metadata": {},
   "outputs": [],
   "source": [
    "# stride = 1*sample_rate\n",
    "# window_size = 5*sample_rate\n",
    "# idxs = list(range(0, math.ceil(metadata.num_frames / stride)))\n",
    "# train_idxs, val_idxs = train_test_split(idxs, test_size=0.2)\n",
    "# train_idxs.__len__()\n",
    "# train_dataset = WindowedAudioDataset(audiofile, labelsfile, window_size, stride, train_idxs)\n",
    "# val_dataset = WindowedAudioDataset(audiofile, labelsfile, window_size, stride, val_idxs)\n",
    "# trainloader = DataLoader(train_dataset, batch_size=64, shuffle=True)\n",
    "# testloader = DataLoader(val_dataset, batch_size=64, shuffle=False)"
   ]
  },
  {
   "cell_type": "code",
   "execution_count": 42,
   "metadata": {},
   "outputs": [],
   "source": [
    "import math\n",
    "\n",
    "class WindowedAudioDataset(Dataset):\n",
    "    def __init__(self, X, y, window_size, stride):\n",
    "        self.window_size = window_size\n",
    "        self.stride = stride\n",
    "\n",
    "        self.X = X\n",
    "        self.y = y\n",
    "        self.y = torch.where(y != 0, torch.ones_like(y), torch.zeros_like(y))\n",
    "        self.len = math.ceil(self.X.shape[1] / self.stride)\n",
    "\n",
    "        self.X = torch.cat([self.X, torch.zeros(X.shape[0], self.window_size-1)], dim=1)\n",
    "\n",
    "    def __len__(self):\n",
    "        return self.len\n",
    "\n",
    "    def __getitem__(self, idx):\n",
    "        if idx >= self.len:\n",
    "            raise IndexError()\n",
    "        return (\n",
    "            self.X[:,(idx*self.stride):(idx*self.stride)+self.window_size],\n",
    "            self.y[(idx*self.stride):(idx*self.stride)+self.window_size].mode().values.unsqueeze(0)\n",
    "        )\n",
    "    \n",
    "class DataSetSplit(Dataset):\n",
    "    def __init__(self, dataset, idxs):\n",
    "        self.dataset = dataset\n",
    "        self.idxs = idxs\n",
    "\n",
    "    def __len__(self):\n",
    "        return len(self.idxs)\n",
    "\n",
    "    def __getitem__(self, idx):\n",
    "        return self.dataset[self.idxs[idx]]"
   ]
  },
  {
   "cell_type": "code",
   "execution_count": 43,
   "metadata": {},
   "outputs": [
    {
     "name": "stdout",
     "output_type": "stream",
     "text": [
      "407408\n",
      "305556 101852\n"
     ]
    }
   ],
   "source": [
    "outdir = Path('/home/musa/who-opened-the-door/data/april_12_dec100')\n",
    "\n",
    "sample_rate = 44100 // 100\n",
    "stride = sample_rate // 16       \n",
    "window_size = 11*sample_rate # cant be more than 11 seconds since event is 6 seconds long\n",
    "\n",
    "Xload = torch.load(outdir / 'X.pt')\n",
    "yload = torch.load(outdir / 'y.pt')\n",
    "\n",
    "dataset = WindowedAudioDataset(Xload, yload, window_size, stride)\n",
    "print(len(dataset))\n",
    "\n",
    "test_size = 0.25\n",
    "idxs = list(range(len(dataset)))\n",
    "# train_idxs, val_idxs = train_test_split(idxs, test_size=0.25)\n",
    "train_idxs = idxs[:-int(len(dataset)*test_size)]\n",
    "val_idxs = idxs[-int(len(dataset)*test_size):]\n",
    "print(len(train_idxs), len(val_idxs))\n",
    "\n",
    "train_dataset = DataSetSplit(dataset, train_idxs)\n",
    "val_dataset = DataSetSplit(dataset, val_idxs)\n",
    "\n",
    "trainloader = DataLoader(train_dataset, batch_size=64, shuffle=True)\n",
    "valloader = DataLoader(val_dataset, batch_size=64, shuffle=False)"
   ]
  },
  {
   "cell_type": "code",
   "execution_count": 44,
   "metadata": {},
   "outputs": [],
   "source": [
    "from torch import nn\n",
    "import torch.nn.functional as F\n",
    "\n",
    "class AudioNet(nn.Module):\n",
    "    def __init__(self, input_size):\n",
    "        super().__init__()\n",
    "        self.fc1 = nn.Linear(input_size*2, 8)\n",
    "        self.fc2 = nn.Linear(8, 1)\n",
    "    def forward(self, x):\n",
    "        x = x.flatten(1)\n",
    "        x = torch.relu(self.fc1(x))\n",
    "        x = self.fc2(x)\n",
    "        return x"
   ]
  },
  {
   "cell_type": "code",
   "execution_count": 45,
   "metadata": {},
   "outputs": [],
   "source": [
    "sum_pos = 0\n",
    "sum_neg = 0\n",
    "for X,y in trainloader:\n",
    "    sum_pos += y.sum()\n",
    "    sum_neg += (y == 0).sum()\n",
    "weight = sum_neg / sum_pos"
   ]
  },
  {
   "cell_type": "code",
   "execution_count": 48,
   "metadata": {},
   "outputs": [],
   "source": [
    "device = 'cuda:0'\n",
    "model = nn.DataParallel(AudioNet(window_size).to(device))\n",
    "criterion = torch.nn.BCEWithLogitsLoss(pos_weight=weight)\n",
    "optimizer = torch.optim.Adam(model.parameters(), lr=3e-4)"
   ]
  },
  {
   "cell_type": "code",
   "execution_count": 49,
   "metadata": {},
   "outputs": [
    {
     "name": "stderr",
     "output_type": "stream",
     "text": [
      "  5%|▌         | 5/100 [02:19<44:03, 27.83s/it, loss=0.0898, val_loss=0.211, f1=0.592, predsum=594]"
     ]
    }
   ],
   "source": [
    "from sklearn.metrics import f1_score\n",
    "\n",
    "train_losses = []\n",
    "val_losses = []\n",
    "best_f1 = 0\n",
    "for epoch in (pbar := tqdm(range(100))):\n",
    "    train_loss = 0\n",
    "    for X,y in trainloader:\n",
    "        X = X.to(device)\n",
    "        y = y.to(device)\n",
    "        logits = model(X)\n",
    "        loss = criterion(logits, y)\n",
    "        optimizer.zero_grad()\n",
    "        loss.backward()\n",
    "        optimizer.step()\n",
    "    \n",
    "        train_loss += loss.item()\n",
    "    train_losses.append(train_loss / len(trainloader))\n",
    "\n",
    "    with torch.no_grad():\n",
    "        val_loss = 0\n",
    "        y_true = []\n",
    "        y_pred = []\n",
    "        for X,y in valloader:\n",
    "            y_true.append(y)\n",
    "            X = X.to(device)\n",
    "            y = y.to(device)\n",
    "            logits = model(X)\n",
    "            val_loss += criterion(logits, y).item()\n",
    "            y_pred.append(torch.round(F.sigmoid(logits)))\n",
    "        val_losses.append(val_loss / len(valloader))\n",
    "        y_true = torch.cat(y_true).cpu().numpy()\n",
    "        y_pred = torch.cat(y_pred).cpu().numpy()\n",
    "        f1 = f1_score(y_true, y_pred, average='binary', zero_division=0)\n",
    "    \n",
    "    if f1 > best_f1:\n",
    "        best_f1 = f1\n",
    "        torch.save(model.state_dict(), 'model.pt')\n",
    "\n",
    "    pbar.set_postfix({'loss': train_losses[-1], 'val_loss': val_losses[-1], 'f1': f1, 'predsum': y_pred.sum()})"
   ]
  },
  {
   "cell_type": "code",
   "execution_count": 17,
   "metadata": {},
   "outputs": [
    {
     "data": {
      "text/plain": [
       "<matplotlib.legend.Legend at 0x7aeeecff5970>"
      ]
     },
     "execution_count": 17,
     "metadata": {},
     "output_type": "execute_result"
    },
    {
     "data": {
      "image/png": "[encoded data removed]",
      "text/plain": [
       "<Figure size 640x480 with 1 Axes>"
      ]
     },
     "metadata": {},
     "output_type": "display_data"
    }
   ],
   "source": [
    "plt.plot(train_losses, label='train')\n",
    "plt.plot(val_losses, label='val')\n",
    "plt.legend()"
   ]
  },
  {
   "cell_type": "code",
   "execution_count": null,
   "metadata": {},
   "outputs": [],
   "source": []
  },
  {
   "cell_type": "code",
   "execution_count": 28,
   "metadata": {},
   "outputs": [
    {
     "name": "stdout",
     "output_type": "stream",
     "text": [
      "[1.] [1.] [1.]\n"
     ]
    },
    {
     "name": "stderr",
     "output_type": "stream",
     "text": [
      "/home/musa/who-opened-the-door/env/lib/python3.12/site-packages/sklearn/metrics/_classification.py:386: UserWarning: A single label was found in 'y_true' and 'y_pred'. For the confusion matrix to have the correct shape, use the 'labels' parameter to pass all known labels.\n",
      "  warnings.warn(\n"
     ]
    },
    {
     "data": {
      "image/png": "[encoded data removed]",
      "text/plain": [
       "<Figure size 640x480 with 1 Axes>"
      ]
     },
     "metadata": {},
     "output_type": "display_data"
    }
   ],
   "source": [
    "# evaluate\n",
    "from sklearn.metrics import confusion_matrix, precision_recall_fscore_support\n",
    "import seaborn as sns\n",
    "\n",
    "# model.load_state_dict(torch.load('model.pt'))\n",
    "model.eval()\n",
    "with torch.no_grad():\n",
    "    y_true = []\n",
    "    y_pred = []\n",
    "    val_X = []\n",
    "    for X,y in valloader:\n",
    "        X = X.to(device)\n",
    "        y = y.to(device)\n",
    "        logits = model(X)\n",
    "        y_true.append(y.cpu())\n",
    "        y_pred.append(torch.round(F.sigmoid(logits)).cpu())\n",
    "        val_X.append(X.cpu())\n",
    "    y_true = torch.cat(y_true).numpy()\n",
    "    y_pred = torch.cat(y_pred).numpy()\n",
    "    val_X = torch.cat(val_X).numpy()\n",
    "precision, recall, f1, _ = precision_recall_fscore_support(y_true, y_pred)\n",
    "cm = confusion_matrix(y_true, y_pred)\n",
    "\n",
    "print(precision, recall, f1)\n",
    "sns.heatmap(cm, annot=True, cbar=False)\n",
    "plt.xlabel('Predicted')\n",
    "plt.ylabel('True');"
   ]
  },
  {
   "cell_type": "code",
   "execution_count": 452,
   "metadata": {},
   "outputs": [
    {
     "data": {
      "text/plain": [
       "(array([ 3064,  3065,  3066,  3067,  3068,  3069,  3070,  3071,  3072,\n",
       "         3073,  3074,  3075,  3076,  3077,  3078,  3079,  3080,  3081,\n",
       "         3082,  3083,  3084,  3085,  3086,  3087, 10272, 10273, 10274,\n",
       "        10275, 10276, 10277, 10278, 10279, 10280, 10281, 10282, 10283,\n",
       "        10284, 10285, 10286, 10287, 10288, 10289, 10290, 10291, 10292,\n",
       "        10293, 10294, 10295, 13018, 13019, 13020, 13021, 13022, 13023,\n",
       "        13024, 13025, 13026, 13027, 13028, 13029, 13030, 13031, 13032,\n",
       "        13033, 13034, 13035, 13036, 13037, 13038, 13039, 13040, 13041]),\n",
       " array([0, 0, 0, 0, 0, 0, 0, 0, 0, 0, 0, 0, 0, 0, 0, 0, 0, 0, 0, 0, 0, 0,\n",
       "        0, 0, 0, 0, 0, 0, 0, 0, 0, 0, 0, 0, 0, 0, 0, 0, 0, 0, 0, 0, 0, 0,\n",
       "        0, 0, 0, 0, 0, 0, 0, 0, 0, 0, 0, 0, 0, 0, 0, 0, 0, 0, 0, 0, 0, 0,\n",
       "        0, 0, 0, 0, 0, 0]))"
      ]
     },
     "execution_count": 452,
     "metadata": {},
     "output_type": "execute_result"
    }
   ],
   "source": [
    "np.where(y_true == 1)"
   ]
  },
  {
   "cell_type": "code",
   "execution_count": 437,
   "metadata": {},
   "outputs": [],
   "source": [
    "import plotly.express as px\n",
    "i = 750\n",
    "dur = 60\n",
    "df = pd.DataFrame(dict(\n",
    "    channelA=val_X[i:i+dur,0,window_size//2-stride//2:window_size//2+stride//2+1].flatten(),\n",
    "    channelB=val_X[i:i+dur,1,window_size//2-stride//2:window_size//2+stride//2+1].flatten(),\n",
    "    label=np.pad(y_true[i:i+dur], ((0,0),(0, stride-1)), 'edge').flatten(),\n",
    "    pred=np.pad(y_pred[i:i+dur], ((0,0),(0, stride-1)), 'edge').flatten(),\n",
    "))\n",
    "fig = px.line(df[::10], y=['channelA', 'channelB', 'label', 'pred'])\n",
    "fig.show(renderer='browser')"
   ]
  }
 ],
 "metadata": {
  "kernelspec": {
   "display_name": "Python 3",
   "language": "python",
   "name": "python3"
  },
  "language_info": {
   "codemirror_mode": {
    "name": "ipython",
    "version": 3
   },
   "file_extension": ".py",
   "mimetype": "text/x-python",
   "name": "python",
   "nbconvert_exporter": "python",
   "pygments_lexer": "ipython3",
   "version": "3.12.3"
  }
 },
 "nbformat": 4,
 "nbformat_minor": 2
}
